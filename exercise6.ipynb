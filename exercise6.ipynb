{
  "nbformat": 4,
  "nbformat_minor": 0,
  "metadata": {
    "colab": {
      "provenance": [],
      "collapsed_sections": [
        "HuEV5MsKFpib",
        "y-bI0oKDGY1k",
        "FaFegqZgVbIJ",
        "9Tv0P8wVRYI8",
        "Toc2YAhfgtR4",
        "RMpo4UOLhUs4",
        "72-Fx5JqkuZo",
        "MDa-U_yYif2G",
        "FRvGOoQSleR1",
        "wdy93RwbmIvu",
        "JPRxWoOVqeho",
        "ImNExZwEr81v",
        "TFEnzPbn5P2a",
        "GIqoCqCTBU7r",
        "LCOHSCA4LN_O"
      ],
      "include_colab_link": true
    },
    "kernelspec": {
      "name": "python3",
      "display_name": "Python 3"
    },
    "language_info": {
      "name": "python"
    }
  },
  "cells": [
    {
      "cell_type": "markdown",
      "metadata": {
        "id": "view-in-github",
        "colab_type": "text"
      },
      "source": [
        "<a href=\"https://colab.research.google.com/github/veronikiSterioti/exercise4/blob/main/exercise6.ipynb\" target=\"_parent\"><img src=\"https://colab.research.google.com/assets/colab-badge.svg\" alt=\"Open In Colab\"/></a>"
      ]
    },
    {
      "cell_type": "markdown",
      "source": [
        "# Δημιουργία notebook αναφοράς με βασικές λειτουργίες σε ένα pandas dataframe\n",
        "\n",
        "Pandas cheatsheet: https://eclass.uoa.gr/modules/document/file.php/MEDIA343/Pandas%20cheatsheet%201.pdf"
      ],
      "metadata": {
        "id": "XXJp9OX-FSQj"
      }
    },
    {
      "cell_type": "markdown",
      "source": [
        "## **Πατήστε στο βελάκι που βρίσκεται στην αρχή καθενός από τους παρακάτω τίτλους για να κάνετε expand τα περιεχόμενά του**"
      ],
      "metadata": {
        "id": "i5X06O_cwyup"
      }
    },
    {
      "cell_type": "markdown",
      "source": [
        "## 1. Πώς φέρνω στην Python ένα csv από το internet σαν dataframe"
      ],
      "metadata": {
        "id": "HuEV5MsKFpib"
      }
    },
    {
      "cell_type": "markdown",
      "source": [
        "Με τον παρακάτω κώδικα φέρνουμε στην Python, σε pandas dataframe, το csv countries.csv από το github."
      ],
      "metadata": {
        "id": "hdBXJpz8EmX1"
      }
    },
    {
      "cell_type": "code",
      "execution_count": null,
      "metadata": {
        "id": "vV720_nUD6qK"
      },
      "outputs": [],
      "source": [
        "import pandas as pd"
      ]
    },
    {
      "cell_type": "code",
      "source": [
        "df = pd.read_csv('https://raw.githubusercontent.com/datajour-gr/DataJournalism/refs/heads/main/Bachelor%20Lessons%202023/Lesson%203/countries.csv')"
      ],
      "metadata": {
        "id": "C6JTN-QOEBOk"
      },
      "execution_count": 4,
      "outputs": []
    },
    {
      "cell_type": "code",
      "source": [
        "df"
      ],
      "metadata": {
        "colab": {
          "base_uri": "https://localhost:8080/",
          "height": 423
        },
        "id": "omqal6k4EUm7",
        "outputId": "350b179c-3c34-41f9-821e-864918f24638"
      },
      "execution_count": 10,
      "outputs": [
        {
          "output_type": "execute_result",
          "data": {
            "text/plain": [
              "                 country   continent  gdp_per_capita  life_expectancy  \\\n",
              "0            Afghanistan        Asia             663           54.863   \n",
              "1                Albania      Europe            4195           74.200   \n",
              "2                Algeria      Africa            5098           68.963   \n",
              "3                 Angola      Africa            2446           45.234   \n",
              "4    Antigua and Barbuda  N. America           12738           73.544   \n",
              "..                   ...         ...             ...              ...   \n",
              "183              Vietnam        Asia            1577           73.777   \n",
              "184   West Bank and Gaza        Asia            7586           70.929   \n",
              "185          Yemen, Rep.        Asia            2217           60.404   \n",
              "186               Zambia      Africa            1035           41.802   \n",
              "187             Zimbabwe      Africa             745           43.976   \n",
              "\n",
              "     population  \n",
              "0      22856302  \n",
              "1       3071856  \n",
              "2      30533827  \n",
              "3      13926373  \n",
              "4         77656  \n",
              "..          ...  \n",
              "183    78758010  \n",
              "184     3198560  \n",
              "185    17723186  \n",
              "186    10201562  \n",
              "187    12509477  \n",
              "\n",
              "[188 rows x 5 columns]"
            ],
            "text/html": [
              "\n",
              "  <div id=\"df-10889950-bbda-4f67-b2be-ce19ef4cad5b\" class=\"colab-df-container\">\n",
              "    <div>\n",
              "<style scoped>\n",
              "    .dataframe tbody tr th:only-of-type {\n",
              "        vertical-align: middle;\n",
              "    }\n",
              "\n",
              "    .dataframe tbody tr th {\n",
              "        vertical-align: top;\n",
              "    }\n",
              "\n",
              "    .dataframe thead th {\n",
              "        text-align: right;\n",
              "    }\n",
              "</style>\n",
              "<table border=\"1\" class=\"dataframe\">\n",
              "  <thead>\n",
              "    <tr style=\"text-align: right;\">\n",
              "      <th></th>\n",
              "      <th>country</th>\n",
              "      <th>continent</th>\n",
              "      <th>gdp_per_capita</th>\n",
              "      <th>life_expectancy</th>\n",
              "      <th>population</th>\n",
              "    </tr>\n",
              "  </thead>\n",
              "  <tbody>\n",
              "    <tr>\n",
              "      <th>0</th>\n",
              "      <td>Afghanistan</td>\n",
              "      <td>Asia</td>\n",
              "      <td>663</td>\n",
              "      <td>54.863</td>\n",
              "      <td>22856302</td>\n",
              "    </tr>\n",
              "    <tr>\n",
              "      <th>1</th>\n",
              "      <td>Albania</td>\n",
              "      <td>Europe</td>\n",
              "      <td>4195</td>\n",
              "      <td>74.200</td>\n",
              "      <td>3071856</td>\n",
              "    </tr>\n",
              "    <tr>\n",
              "      <th>2</th>\n",
              "      <td>Algeria</td>\n",
              "      <td>Africa</td>\n",
              "      <td>5098</td>\n",
              "      <td>68.963</td>\n",
              "      <td>30533827</td>\n",
              "    </tr>\n",
              "    <tr>\n",
              "      <th>3</th>\n",
              "      <td>Angola</td>\n",
              "      <td>Africa</td>\n",
              "      <td>2446</td>\n",
              "      <td>45.234</td>\n",
              "      <td>13926373</td>\n",
              "    </tr>\n",
              "    <tr>\n",
              "      <th>4</th>\n",
              "      <td>Antigua and Barbuda</td>\n",
              "      <td>N. America</td>\n",
              "      <td>12738</td>\n",
              "      <td>73.544</td>\n",
              "      <td>77656</td>\n",
              "    </tr>\n",
              "    <tr>\n",
              "      <th>...</th>\n",
              "      <td>...</td>\n",
              "      <td>...</td>\n",
              "      <td>...</td>\n",
              "      <td>...</td>\n",
              "      <td>...</td>\n",
              "    </tr>\n",
              "    <tr>\n",
              "      <th>183</th>\n",
              "      <td>Vietnam</td>\n",
              "      <td>Asia</td>\n",
              "      <td>1577</td>\n",
              "      <td>73.777</td>\n",
              "      <td>78758010</td>\n",
              "    </tr>\n",
              "    <tr>\n",
              "      <th>184</th>\n",
              "      <td>West Bank and Gaza</td>\n",
              "      <td>Asia</td>\n",
              "      <td>7586</td>\n",
              "      <td>70.929</td>\n",
              "      <td>3198560</td>\n",
              "    </tr>\n",
              "    <tr>\n",
              "      <th>185</th>\n",
              "      <td>Yemen, Rep.</td>\n",
              "      <td>Asia</td>\n",
              "      <td>2217</td>\n",
              "      <td>60.404</td>\n",
              "      <td>17723186</td>\n",
              "    </tr>\n",
              "    <tr>\n",
              "      <th>186</th>\n",
              "      <td>Zambia</td>\n",
              "      <td>Africa</td>\n",
              "      <td>1035</td>\n",
              "      <td>41.802</td>\n",
              "      <td>10201562</td>\n",
              "    </tr>\n",
              "    <tr>\n",
              "      <th>187</th>\n",
              "      <td>Zimbabwe</td>\n",
              "      <td>Africa</td>\n",
              "      <td>745</td>\n",
              "      <td>43.976</td>\n",
              "      <td>12509477</td>\n",
              "    </tr>\n",
              "  </tbody>\n",
              "</table>\n",
              "<p>188 rows × 5 columns</p>\n",
              "</div>\n",
              "    <div class=\"colab-df-buttons\">\n",
              "\n",
              "  <div class=\"colab-df-container\">\n",
              "    <button class=\"colab-df-convert\" onclick=\"convertToInteractive('df-10889950-bbda-4f67-b2be-ce19ef4cad5b')\"\n",
              "            title=\"Convert this dataframe to an interactive table.\"\n",
              "            style=\"display:none;\">\n",
              "\n",
              "  <svg xmlns=\"http://www.w3.org/2000/svg\" height=\"24px\" viewBox=\"0 -960 960 960\">\n",
              "    <path d=\"M120-120v-720h720v720H120Zm60-500h600v-160H180v160Zm220 220h160v-160H400v160Zm0 220h160v-160H400v160ZM180-400h160v-160H180v160Zm440 0h160v-160H620v160ZM180-180h160v-160H180v160Zm440 0h160v-160H620v160Z\"/>\n",
              "  </svg>\n",
              "    </button>\n",
              "\n",
              "  <style>\n",
              "    .colab-df-container {\n",
              "      display:flex;\n",
              "      gap: 12px;\n",
              "    }\n",
              "\n",
              "    .colab-df-convert {\n",
              "      background-color: #E8F0FE;\n",
              "      border: none;\n",
              "      border-radius: 50%;\n",
              "      cursor: pointer;\n",
              "      display: none;\n",
              "      fill: #1967D2;\n",
              "      height: 32px;\n",
              "      padding: 0 0 0 0;\n",
              "      width: 32px;\n",
              "    }\n",
              "\n",
              "    .colab-df-convert:hover {\n",
              "      background-color: #E2EBFA;\n",
              "      box-shadow: 0px 1px 2px rgba(60, 64, 67, 0.3), 0px 1px 3px 1px rgba(60, 64, 67, 0.15);\n",
              "      fill: #174EA6;\n",
              "    }\n",
              "\n",
              "    .colab-df-buttons div {\n",
              "      margin-bottom: 4px;\n",
              "    }\n",
              "\n",
              "    [theme=dark] .colab-df-convert {\n",
              "      background-color: #3B4455;\n",
              "      fill: #D2E3FC;\n",
              "    }\n",
              "\n",
              "    [theme=dark] .colab-df-convert:hover {\n",
              "      background-color: #434B5C;\n",
              "      box-shadow: 0px 1px 3px 1px rgba(0, 0, 0, 0.15);\n",
              "      filter: drop-shadow(0px 1px 2px rgba(0, 0, 0, 0.3));\n",
              "      fill: #FFFFFF;\n",
              "    }\n",
              "  </style>\n",
              "\n",
              "    <script>\n",
              "      const buttonEl =\n",
              "        document.querySelector('#df-10889950-bbda-4f67-b2be-ce19ef4cad5b button.colab-df-convert');\n",
              "      buttonEl.style.display =\n",
              "        google.colab.kernel.accessAllowed ? 'block' : 'none';\n",
              "\n",
              "      async function convertToInteractive(key) {\n",
              "        const element = document.querySelector('#df-10889950-bbda-4f67-b2be-ce19ef4cad5b');\n",
              "        const dataTable =\n",
              "          await google.colab.kernel.invokeFunction('convertToInteractive',\n",
              "                                                    [key], {});\n",
              "        if (!dataTable) return;\n",
              "\n",
              "        const docLinkHtml = 'Like what you see? Visit the ' +\n",
              "          '<a target=\"_blank\" href=https://colab.research.google.com/notebooks/data_table.ipynb>data table notebook</a>'\n",
              "          + ' to learn more about interactive tables.';\n",
              "        element.innerHTML = '';\n",
              "        dataTable['output_type'] = 'display_data';\n",
              "        await google.colab.output.renderOutput(dataTable, element);\n",
              "        const docLink = document.createElement('div');\n",
              "        docLink.innerHTML = docLinkHtml;\n",
              "        element.appendChild(docLink);\n",
              "      }\n",
              "    </script>\n",
              "  </div>\n",
              "\n",
              "\n",
              "    <div id=\"df-db91bc76-927e-474f-994d-08eeb3ce799f\">\n",
              "      <button class=\"colab-df-quickchart\" onclick=\"quickchart('df-db91bc76-927e-474f-994d-08eeb3ce799f')\"\n",
              "                title=\"Suggest charts\"\n",
              "                style=\"display:none;\">\n",
              "\n",
              "<svg xmlns=\"http://www.w3.org/2000/svg\" height=\"24px\"viewBox=\"0 0 24 24\"\n",
              "     width=\"24px\">\n",
              "    <g>\n",
              "        <path d=\"M19 3H5c-1.1 0-2 .9-2 2v14c0 1.1.9 2 2 2h14c1.1 0 2-.9 2-2V5c0-1.1-.9-2-2-2zM9 17H7v-7h2v7zm4 0h-2V7h2v10zm4 0h-2v-4h2v4z\"/>\n",
              "    </g>\n",
              "</svg>\n",
              "      </button>\n",
              "\n",
              "<style>\n",
              "  .colab-df-quickchart {\n",
              "      --bg-color: #E8F0FE;\n",
              "      --fill-color: #1967D2;\n",
              "      --hover-bg-color: #E2EBFA;\n",
              "      --hover-fill-color: #174EA6;\n",
              "      --disabled-fill-color: #AAA;\n",
              "      --disabled-bg-color: #DDD;\n",
              "  }\n",
              "\n",
              "  [theme=dark] .colab-df-quickchart {\n",
              "      --bg-color: #3B4455;\n",
              "      --fill-color: #D2E3FC;\n",
              "      --hover-bg-color: #434B5C;\n",
              "      --hover-fill-color: #FFFFFF;\n",
              "      --disabled-bg-color: #3B4455;\n",
              "      --disabled-fill-color: #666;\n",
              "  }\n",
              "\n",
              "  .colab-df-quickchart {\n",
              "    background-color: var(--bg-color);\n",
              "    border: none;\n",
              "    border-radius: 50%;\n",
              "    cursor: pointer;\n",
              "    display: none;\n",
              "    fill: var(--fill-color);\n",
              "    height: 32px;\n",
              "    padding: 0;\n",
              "    width: 32px;\n",
              "  }\n",
              "\n",
              "  .colab-df-quickchart:hover {\n",
              "    background-color: var(--hover-bg-color);\n",
              "    box-shadow: 0 1px 2px rgba(60, 64, 67, 0.3), 0 1px 3px 1px rgba(60, 64, 67, 0.15);\n",
              "    fill: var(--button-hover-fill-color);\n",
              "  }\n",
              "\n",
              "  .colab-df-quickchart-complete:disabled,\n",
              "  .colab-df-quickchart-complete:disabled:hover {\n",
              "    background-color: var(--disabled-bg-color);\n",
              "    fill: var(--disabled-fill-color);\n",
              "    box-shadow: none;\n",
              "  }\n",
              "\n",
              "  .colab-df-spinner {\n",
              "    border: 2px solid var(--fill-color);\n",
              "    border-color: transparent;\n",
              "    border-bottom-color: var(--fill-color);\n",
              "    animation:\n",
              "      spin 1s steps(1) infinite;\n",
              "  }\n",
              "\n",
              "  @keyframes spin {\n",
              "    0% {\n",
              "      border-color: transparent;\n",
              "      border-bottom-color: var(--fill-color);\n",
              "      border-left-color: var(--fill-color);\n",
              "    }\n",
              "    20% {\n",
              "      border-color: transparent;\n",
              "      border-left-color: var(--fill-color);\n",
              "      border-top-color: var(--fill-color);\n",
              "    }\n",
              "    30% {\n",
              "      border-color: transparent;\n",
              "      border-left-color: var(--fill-color);\n",
              "      border-top-color: var(--fill-color);\n",
              "      border-right-color: var(--fill-color);\n",
              "    }\n",
              "    40% {\n",
              "      border-color: transparent;\n",
              "      border-right-color: var(--fill-color);\n",
              "      border-top-color: var(--fill-color);\n",
              "    }\n",
              "    60% {\n",
              "      border-color: transparent;\n",
              "      border-right-color: var(--fill-color);\n",
              "    }\n",
              "    80% {\n",
              "      border-color: transparent;\n",
              "      border-right-color: var(--fill-color);\n",
              "      border-bottom-color: var(--fill-color);\n",
              "    }\n",
              "    90% {\n",
              "      border-color: transparent;\n",
              "      border-bottom-color: var(--fill-color);\n",
              "    }\n",
              "  }\n",
              "</style>\n",
              "\n",
              "      <script>\n",
              "        async function quickchart(key) {\n",
              "          const quickchartButtonEl =\n",
              "            document.querySelector('#' + key + ' button');\n",
              "          quickchartButtonEl.disabled = true;  // To prevent multiple clicks.\n",
              "          quickchartButtonEl.classList.add('colab-df-spinner');\n",
              "          try {\n",
              "            const charts = await google.colab.kernel.invokeFunction(\n",
              "                'suggestCharts', [key], {});\n",
              "          } catch (error) {\n",
              "            console.error('Error during call to suggestCharts:', error);\n",
              "          }\n",
              "          quickchartButtonEl.classList.remove('colab-df-spinner');\n",
              "          quickchartButtonEl.classList.add('colab-df-quickchart-complete');\n",
              "        }\n",
              "        (() => {\n",
              "          let quickchartButtonEl =\n",
              "            document.querySelector('#df-db91bc76-927e-474f-994d-08eeb3ce799f button');\n",
              "          quickchartButtonEl.style.display =\n",
              "            google.colab.kernel.accessAllowed ? 'block' : 'none';\n",
              "        })();\n",
              "      </script>\n",
              "    </div>\n",
              "\n",
              "  <div id=\"id_8ab21b9c-f0d6-465c-b744-0632a9fe68aa\">\n",
              "    <style>\n",
              "      .colab-df-generate {\n",
              "        background-color: #E8F0FE;\n",
              "        border: none;\n",
              "        border-radius: 50%;\n",
              "        cursor: pointer;\n",
              "        display: none;\n",
              "        fill: #1967D2;\n",
              "        height: 32px;\n",
              "        padding: 0 0 0 0;\n",
              "        width: 32px;\n",
              "      }\n",
              "\n",
              "      .colab-df-generate:hover {\n",
              "        background-color: #E2EBFA;\n",
              "        box-shadow: 0px 1px 2px rgba(60, 64, 67, 0.3), 0px 1px 3px 1px rgba(60, 64, 67, 0.15);\n",
              "        fill: #174EA6;\n",
              "      }\n",
              "\n",
              "      [theme=dark] .colab-df-generate {\n",
              "        background-color: #3B4455;\n",
              "        fill: #D2E3FC;\n",
              "      }\n",
              "\n",
              "      [theme=dark] .colab-df-generate:hover {\n",
              "        background-color: #434B5C;\n",
              "        box-shadow: 0px 1px 3px 1px rgba(0, 0, 0, 0.15);\n",
              "        filter: drop-shadow(0px 1px 2px rgba(0, 0, 0, 0.3));\n",
              "        fill: #FFFFFF;\n",
              "      }\n",
              "    </style>\n",
              "    <button class=\"colab-df-generate\" onclick=\"generateWithVariable('df')\"\n",
              "            title=\"Generate code using this dataframe.\"\n",
              "            style=\"display:none;\">\n",
              "\n",
              "  <svg xmlns=\"http://www.w3.org/2000/svg\" height=\"24px\"viewBox=\"0 0 24 24\"\n",
              "       width=\"24px\">\n",
              "    <path d=\"M7,19H8.4L18.45,9,17,7.55,7,17.6ZM5,21V16.75L18.45,3.32a2,2,0,0,1,2.83,0l1.4,1.43a1.91,1.91,0,0,1,.58,1.4,1.91,1.91,0,0,1-.58,1.4L9.25,21ZM18.45,9,17,7.55Zm-12,3A5.31,5.31,0,0,0,4.9,8.1,5.31,5.31,0,0,0,1,6.5,5.31,5.31,0,0,0,4.9,4.9,5.31,5.31,0,0,0,6.5,1,5.31,5.31,0,0,0,8.1,4.9,5.31,5.31,0,0,0,12,6.5,5.46,5.46,0,0,0,6.5,12Z\"/>\n",
              "  </svg>\n",
              "    </button>\n",
              "    <script>\n",
              "      (() => {\n",
              "      const buttonEl =\n",
              "        document.querySelector('#id_8ab21b9c-f0d6-465c-b744-0632a9fe68aa button.colab-df-generate');\n",
              "      buttonEl.style.display =\n",
              "        google.colab.kernel.accessAllowed ? 'block' : 'none';\n",
              "\n",
              "      buttonEl.onclick = () => {\n",
              "        google.colab.notebook.generateWithVariable('df');\n",
              "      }\n",
              "      })();\n",
              "    </script>\n",
              "  </div>\n",
              "\n",
              "    </div>\n",
              "  </div>\n"
            ],
            "application/vnd.google.colaboratory.intrinsic+json": {
              "type": "dataframe",
              "variable_name": "df",
              "summary": "{\n  \"name\": \"df\",\n  \"rows\": 188,\n  \"fields\": [\n    {\n      \"column\": \"country\",\n      \"properties\": {\n        \"dtype\": \"string\",\n        \"num_unique_values\": 188,\n        \"samples\": [\n          \"Vietnam\",\n          \"Syria\",\n          \"Bhutan\"\n        ],\n        \"semantic_type\": \"\",\n        \"description\": \"\"\n      }\n    },\n    {\n      \"column\": \"continent\",\n      \"properties\": {\n        \"dtype\": \"category\",\n        \"num_unique_values\": 6,\n        \"samples\": [\n          \"Asia\",\n          \"Europe\",\n          \"Oceania\"\n        ],\n        \"semantic_type\": \"\",\n        \"description\": \"\"\n      }\n    },\n    {\n      \"column\": \"gdp_per_capita\",\n      \"properties\": {\n        \"dtype\": \"number\",\n        \"std\": 11953,\n        \"min\": 292,\n        \"max\": 63924,\n        \"num_unique_values\": 186,\n        \"samples\": [\n          2017,\n          826,\n          10496\n        ],\n        \"semantic_type\": \"\",\n        \"description\": \"\"\n      }\n    },\n    {\n      \"column\": \"life_expectancy\",\n      \"properties\": {\n        \"dtype\": \"number\",\n        \"std\": 10.298457610670951,\n        \"min\": 38.123000000000005,\n        \"max\": 81.35,\n        \"num_unique_values\": 188,\n        \"samples\": [\n          73.777,\n          73.316,\n          60.307\n        ],\n        \"semantic_type\": \"\",\n        \"description\": \"\"\n      }\n    },\n    {\n      \"column\": \"population\",\n      \"properties\": {\n        \"dtype\": \"number\",\n        \"std\": 123795162,\n        \"min\": 56196,\n        \"max\": 1269116737,\n        \"num_unique_values\": 188,\n        \"samples\": [\n          78758010,\n          15988534,\n          571262\n        ],\n        \"semantic_type\": \"\",\n        \"description\": \"\"\n      }\n    }\n  ]\n}"
            }
          },
          "metadata": {},
          "execution_count": 10
        }
      ]
    },
    {
      "cell_type": "markdown",
      "source": [
        "\n",
        "\n",
        "---\n",
        "\n"
      ],
      "metadata": {
        "id": "3AuuUTAMVB7O"
      }
    },
    {
      "cell_type": "markdown",
      "source": [
        "## Πώς αποθηκεύω ένα dataframe σαν csv στο gdrive"
      ],
      "metadata": {
        "id": "y-bI0oKDGY1k"
      }
    },
    {
      "cell_type": "markdown",
      "source": [
        "**1. Συνδέω το gdrive στο colab notebook και κάνω copy το path του folder (στο οποίο θέλω να αποθηκευτεί το csv που θα αποθηκεύσω)**\n",
        "\n",
        "Οδηγίες: https://eclass.uoa.gr/modules/document/file.php/MEDIA343/Mount%20gdrive%20to%20colab.pdf"
      ],
      "metadata": {
        "id": "MeQM2o6nGtij"
      }
    },
    {
      "cell_type": "markdown",
      "source": [
        "**2. Συμπληρώνω στην εντολή .to_csv() το path (κάνοντας paste το path που έκανα copy προηγουμένως) και θέτω το filename του csv που θα αποθηκεύσω**\n",
        "\n",
        "```df.to_csv(\"<folder path>/<filename>.csv\", index=False)```\n",
        "\n",
        "Με την παράμετρο ```index=False``` δεν αποθηκεύω στο csv τη στήλη index (με την αρίθμηση των rows) που έχει το dataframe."
      ],
      "metadata": {
        "id": "mgEMS1glRwHU"
      }
    },
    {
      "cell_type": "code",
      "source": [
        "# συμπληρώστε στην παρένθεση το path και το filename που θέλετε να δώσετε στο csv που θα αποθηκευτεί στο drive\n",
        "df.to_csv(\"https://raw.githubusercontent.com/datajour-gr/DataJournalism/refs/heads/main/Bachelor%20Lessons%202023/Lesson%203/countries.csv\", index=False)"
      ],
      "metadata": {
        "id": "bNNwKB92S-2Q",
        "collapsed": true
      },
      "execution_count": 18,
      "outputs": []
    },
    {
      "cell_type": "markdown",
      "source": [
        "\n",
        "\n",
        "---\n",
        "\n"
      ],
      "metadata": {
        "id": "ptnVO1GfVxG_"
      }
    },
    {
      "cell_type": "markdown",
      "source": [
        "## Πώς φέρνω σε dataframe ένα csv που έχω αποθηκεύσει στο drive μου"
      ],
      "metadata": {
        "id": "FaFegqZgVbIJ"
      }
    },
    {
      "cell_type": "markdown",
      "source": [
        "**1.** (Αν δεν έχω ήδη συνδέσει το Drive, συνδέω το gdrive στο colab και) **Kάνω copy το path του csv (που θέλω να φέρω στην Python σαν dataframe)**\n",
        "\n",
        "**2. Συμπληρώνω στην εντολή pd.read_csv() το path (κάνοντας paste το path του csv που έκανα copy προηγουμένως)**\n",
        "\n",
        "```<όνομα df> = pd.read_csv(\"<csv path>\")```"
      ],
      "metadata": {
        "id": "nUFQvifzWI-Z"
      }
    },
    {
      "cell_type": "code",
      "source": [
        "# βρείτε το path του csv που αποθηκεύσατε προηγουμένως και βάλτε το μέσα στην παρένθεση\n",
        "df = pd.read_csv(\"https://raw.githubusercontent.com/datajour-gr/DataJournalism/refs/heads/main/Bachelor%20Lessons%202023/Lesson%203/countries.csv\")"
      ],
      "metadata": {
        "id": "IFgkPyEaVpr9"
      },
      "execution_count": 20,
      "outputs": []
    },
    {
      "cell_type": "code",
      "source": [
        "# εμφανίστε το dataframe (χωρίς print())\n",
        "\n"
      ],
      "metadata": {
        "id": "VJsfOdMVZLqy"
      },
      "execution_count": 21,
      "outputs": []
    },
    {
      "cell_type": "markdown",
      "source": [
        "\n",
        "\n",
        "---\n",
        "\n"
      ],
      "metadata": {
        "id": "65HwDHKVgo4Y"
      }
    },
    {
      "cell_type": "markdown",
      "source": [
        "## Πώς βλέπω τις πρώτες γραμμές του dataframe\n",
        "\n",
        "Με το ```.head()``` και τη σύνταξη ```<όνομα df>.head()```. Μέσα στην παρένθεση βάζω τον αριθμό των rows που θέλω. Το default είναι 5."
      ],
      "metadata": {
        "id": "9Tv0P8wVRYI8"
      }
    },
    {
      "cell_type": "code",
      "source": [
        "# δείτε τις 5 πρώτες γραμμές του dataframe\n",
        "\n"
      ],
      "metadata": {
        "id": "p5ccFq29EWnk"
      },
      "execution_count": 22,
      "outputs": []
    },
    {
      "cell_type": "markdown",
      "source": [
        "\n",
        "\n",
        "---\n",
        "\n"
      ],
      "metadata": {
        "id": "2AqNXFyggrRv"
      }
    },
    {
      "cell_type": "markdown",
      "source": [
        "## Πώς βλέπω τις τελευταίες γραμμές του dataframe\n",
        "\n",
        "Με το ```.tail()``` και τη σύνταξη ```<όνομα df>.tail()```. Μέσα στην παρένθεση βάζω τον αριθμό των rows που θέλω. Το default είναι 5."
      ],
      "metadata": {
        "id": "Toc2YAhfgtR4"
      }
    },
    {
      "cell_type": "code",
      "source": [
        "# δείτε τις 5 τελευταίες γραμμές του dataframe\n",
        "\n"
      ],
      "metadata": {
        "id": "XltCZXwzglR-"
      },
      "execution_count": 23,
      "outputs": []
    },
    {
      "cell_type": "markdown",
      "source": [
        "\n",
        "\n",
        "---\n",
        "\n"
      ],
      "metadata": {
        "id": "18LDKwEchr-w"
      }
    },
    {
      "cell_type": "markdown",
      "source": [
        "## Πώς βλέπω τις διαστάσεις του dataframe (αριθμό των rows και των columns)\n",
        "\n",
        "Με το ```.shape``` και τη σύνταξη ```<όνομα df>.shape```"
      ],
      "metadata": {
        "id": "RMpo4UOLhUs4"
      }
    },
    {
      "cell_type": "code",
      "source": [
        "# δείτε τις διαστάσεις του dataframe\n",
        "\n"
      ],
      "metadata": {
        "id": "8yhP-lC8hu3K"
      },
      "execution_count": 24,
      "outputs": []
    },
    {
      "cell_type": "markdown",
      "source": [
        "\n",
        "\n",
        "---\n",
        "\n"
      ],
      "metadata": {
        "id": "1eRdGrzVhOWk"
      }
    },
    {
      "cell_type": "markdown",
      "source": [
        "## Πώς βλέπω τον τύπο δεδομένων κάθε στήλης\n",
        "\n",
        "Με το ```.dtypes``` και τη σύνταξη ```<όνομα df>.dtypes```"
      ],
      "metadata": {
        "id": "72-Fx5JqkuZo"
      }
    },
    {
      "cell_type": "code",
      "source": [
        "# δείτε τον τύπο δεδομένων του dataframe\n",
        "\n"
      ],
      "metadata": {
        "id": "P-ZyvI0WlK4b"
      },
      "execution_count": 25,
      "outputs": []
    },
    {
      "cell_type": "markdown",
      "source": [
        "\n",
        "\n",
        "---\n",
        "\n"
      ],
      "metadata": {
        "id": "bKG4i5WGlGLH"
      }
    },
    {
      "cell_type": "markdown",
      "source": [
        "## Πώς βλέπω τα στατιστικά μεγέθη των στηλών με αριθμητικά δεδομένα\n",
        "\n",
        "Με το ```.describe()``` και τη σύνταξη ```<όνομα df>.describe()```\n",
        "\n",
        "Προσθέτοντας το ```.astype(int)``` μετά το ```.describe()``` βλέπω τα νούμερα του describe σαν ακέραιους."
      ],
      "metadata": {
        "id": "MDa-U_yYif2G"
      }
    },
    {
      "cell_type": "code",
      "source": [
        "# δείτε τα στατιστικά μεγεθη των στηλών του dataframe που έχουν αριθμητικές τιμές, σαν ακέραιους\n",
        "\n"
      ],
      "metadata": {
        "id": "Al7BGXxohMtY"
      },
      "execution_count": 26,
      "outputs": []
    },
    {
      "cell_type": "markdown",
      "source": [
        "\n",
        "\n",
        "---\n",
        "\n"
      ],
      "metadata": {
        "id": "6pWv06y0lblb"
      }
    },
    {
      "cell_type": "markdown",
      "source": [
        "## Πώς βλέπω τα ονόματα των στηλών\n",
        "\n",
        "Με το ```.columns``` και τη σύνταξη ```<όνομα df>.columns```"
      ],
      "metadata": {
        "id": "FRvGOoQSleR1"
      }
    },
    {
      "cell_type": "code",
      "source": [
        "# δείτε τα ονόματα των στηλών του dataframe\n",
        "\n"
      ],
      "metadata": {
        "id": "NA0Jij6mkCLi"
      },
      "execution_count": 27,
      "outputs": []
    },
    {
      "cell_type": "markdown",
      "source": [
        "\n",
        "\n",
        "---\n",
        "\n"
      ],
      "metadata": {
        "id": "CyoLcQHjmGD8"
      }
    },
    {
      "cell_type": "markdown",
      "source": [
        "## Πώς βλέπω τις μοναδικές τιμές και το πλήθος των μοναδικών τιμών μιας στήλης του dataframe\n",
        "\n",
        "**Μοναδικές τιμές**: Με το ```.unique()``` και τη σύνταξη ```<όνομα df>.[\"<όνομα στήλης>\"].unique()```\n",
        "\n",
        "**Πλήθος μοναδικών τιμών**: Με το ```.nunique()``` και τη σύνταξη ```<όνομα df>.[\"<όνομα στήλης>\"].nunique()```"
      ],
      "metadata": {
        "id": "wdy93RwbmIvu"
      }
    },
    {
      "cell_type": "code",
      "source": [
        "# δείτε τις μοναδικές τιμές της στήλης \"continent\" του dataframe\n",
        "\n"
      ],
      "metadata": {
        "id": "IAsOojPrmHjX"
      },
      "execution_count": 28,
      "outputs": []
    },
    {
      "cell_type": "code",
      "source": [
        "# δείτε τo πλήθος των μοναδικών τιμών της στήλης \"country\" του dataframe\n",
        "\n"
      ],
      "metadata": {
        "id": "iaJey5ubo01q"
      },
      "execution_count": 29,
      "outputs": []
    },
    {
      "cell_type": "markdown",
      "source": [
        "\n",
        "\n",
        "---\n",
        "\n"
      ],
      "metadata": {
        "id": "eqwRqVH3qLrH"
      }
    },
    {
      "cell_type": "markdown",
      "source": [
        "## Πώς βλέπω τον πίνακα συχνοτήτων (frequencies) μιας στήλης του dataframe\n",
        "\n",
        "Ο πίνακας συχνοτήτων μιας στήλης είναι το πλήθος εμφανίσεων κάθε μοναδικής τιμής της στήλης.\n",
        "\n",
        "Με το ```.value_counts()``` και τη σύνταξη ```<όνομα df>[\"<όνομα στήλης\"].value_counts()```"
      ],
      "metadata": {
        "id": "JPRxWoOVqeho"
      }
    },
    {
      "cell_type": "code",
      "source": [
        "# δείτε τον πίνακα συχνοτήτων της στήλης \"continent\" του dataframe\n",
        "\n"
      ],
      "metadata": {
        "id": "-rsE0BB7qM8V"
      },
      "execution_count": 30,
      "outputs": []
    },
    {
      "cell_type": "markdown",
      "source": [
        "\n",
        "\n",
        "---\n",
        "\n"
      ],
      "metadata": {
        "id": "YjE7o0GIr514"
      }
    },
    {
      "cell_type": "markdown",
      "source": [
        "## Πώς βλέπω στατιστικά μεγέθη μιας στήλης του dataframe\n",
        "\n",
        "- **median (διάμεσος)**: Με το ```.median()``` και τη σύνταξη ```<όνομα df>[\"<όνομα στήλης>\"].median()```\n",
        "\n",
        "- **mean (μέση τιμή)**: Με το ```.mean()``` και τη σύνταξη ```<όνομα df>[\"<όνομα στήλης>\"].mean()```\n",
        "\n",
        "- **sum (άθροισμα)**: Με το ```.sum()``` και τη σύνταξη ```<όνομα df>[\"<όνομα στήλης>\"].sum()```\n",
        "\n",
        "- **minimum value (ελάχιστη τιμή)**: Με το ```.min()``` και τη σύνταξη ```<όνομα df>[\"<όνομα στήλης>\"].min()```\n",
        "\n",
        "- **maximum value (μέγιστη τιμή)**: Με το ```.max()``` και τη σύνταξη ```<όνομα df>[\"<όνομα στήλης>\"].max()```\n",
        "\n",
        "- **standard deviation (τυπική απόκλιση)**: Με το ```.std()``` και τη σύνταξη ```<όνομα df>[\"<όνομα στήλης>\"].std()\n",
        "\n",
        "- **correlation coefficient (συντελεστής συσχέτισης Pearson)**: με το ```.corr()``` και τη σύνταξη ```<όνομα df>[\"<όνομα στήλης 1>\"].corr(<όνομα df>[\"<όνομα στήλης 2\"])```\n",
        "\n",
        "---\n",
        "\n",
        "Σημείωση: Η ```.corr()``` επιστρέφει, από προεπιλογή, τον συντελεστή συσχέτισης του Pearson, ο οποίος μετρά τη γραμμική σχέση μεταξύ δύο μεταβλητών και παίρνει τιμές μεταξύ -1 και 1:\n",
        "\n",
        "    1: Θετική τέλεια συσχέτιση (αν η μία στήλη αυξάνεται, η άλλη αυξάνεται επίσης)\n",
        "\n",
        "    0: Καμία γραμμική συσχέτιση (οι τιμές των στηλών δεν έχουν προβλέψιμη σχέση)\n",
        "\n",
        "    -1: Αρνητική τέλεια συσχέτιση (αν η μία στήλη αυξάνεται, η άλλη μειώνεται)"
      ],
      "metadata": {
        "id": "ImNExZwEr81v"
      }
    },
    {
      "cell_type": "code",
      "source": [
        "# δείτε ποια είναι η μεγαλύτερη τιμή της στήλης \"population\"\n",
        "# αυτό απαντάει στο ερώτημα: ποιος είναι ο πληθυσμός της πολυπληθέστερης χώρας;\n",
        "\n"
      ],
      "metadata": {
        "id": "-ZR8-v8a0eNl"
      },
      "execution_count": 31,
      "outputs": []
    },
    {
      "cell_type": "code",
      "source": [
        "# δείτε ποιο είναι το μικρότερο κατά κεφαλήν εισόδημα\n",
        "\n"
      ],
      "metadata": {
        "id": "ToluQVlZ1d1F"
      },
      "execution_count": 32,
      "outputs": []
    },
    {
      "cell_type": "code",
      "source": [
        "# δείτε ποια είναι η μέση τιμή και ποια η διάμεσος της στήλης του προσδόκιμου ζωής\n",
        "print(\"μ.ο. προσδόκιμου ζωής:\", )\n",
        "print(\"διάμεσος προσδόκιμου ζωής:\", )"
      ],
      "metadata": {
        "colab": {
          "base_uri": "https://localhost:8080/"
        },
        "id": "pZEp1J5O1qGY",
        "outputId": "c487dfbc-1c34-4fd8-a9d2-42a798a792be"
      },
      "execution_count": 38,
      "outputs": [
        {
          "output_type": "stream",
          "name": "stdout",
          "text": [
            "μ.ο. προσδόκιμου ζωής:\n",
            "διάμεσος προσδόκιμου ζωής:\n"
          ]
        }
      ]
    },
    {
      "cell_type": "code",
      "source": [
        "# βρείτε ποιος είναι συνολικά ο παγκόσμιος πληθυσμός\n",
        "print(\"παγκόσμιος πληθυσμός:\", )"
      ],
      "metadata": {
        "colab": {
          "base_uri": "https://localhost:8080/"
        },
        "id": "HsbS5yT82jFD",
        "outputId": "be69c02e-66cd-4eaf-f35f-81b4ecf17cf7"
      },
      "execution_count": 39,
      "outputs": [
        {
          "output_type": "stream",
          "name": "stdout",
          "text": [
            "παγκόσμιος πληθυσμός:\n"
          ]
        }
      ]
    },
    {
      "cell_type": "code",
      "source": [
        "  # δείτε τη συσχέτιση της στήλης \"population\" με τη στήλη \"life_expectancy\"\n",
        "  # (δηλαδή την απάντηση στο ερώτημα: υπάρχει γραμμική συσχέτιση μεταξύ του πληθυσμού και του προσδόκιμου ζωής;\n",
        "\n"
      ],
      "metadata": {
        "id": "V7nayxRsrnTo"
      },
      "execution_count": 35,
      "outputs": []
    },
    {
      "cell_type": "code",
      "source": [
        "# δείτε αν υπάρχει συσχέτιση μεταξύ του πληθυσμού και του κατά κεφαλήν εισοδήματος\n",
        "\n"
      ],
      "metadata": {
        "id": "mv3pOZbhvHPZ"
      },
      "execution_count": 36,
      "outputs": []
    },
    {
      "cell_type": "code",
      "source": [
        "# δείτε αν υπάρχει συσχέτιση μεταξύ του προσδόκιμου ζωής και του κατά κεφαλήν εισοδήματος\n",
        "\n"
      ],
      "metadata": {
        "id": "tTb_r8pyzrqV"
      },
      "execution_count": 37,
      "outputs": []
    },
    {
      "cell_type": "markdown",
      "source": [
        "\n",
        "\n",
        "---\n",
        "\n"
      ],
      "metadata": {
        "id": "cvDQHEiB0X4F"
      }
    },
    {
      "cell_type": "markdown",
      "source": [
        "## Πώς ταξινομώ το dataframe (sorting)\n",
        "\n",
        "Με το ```.sort_values()``` και τη σύνταξη ```<όνομα df>.sort_values(\"<όνομα στήλης>\")```\n",
        "\n",
        "Το default είναι ταξινόμηση σε αύξουσα σειρά (ascending=True).\n",
        "\n",
        "Αν θέλουμε φθήνουσα σειρά, προσθέτουμε μέσα στην παρένθεση και μετά το όνομα της στήλης, το ```ascending=False```. Όλη η σύνταξη για φθήνουσα σειρά είναι: ```<όνομα df>.sort_values(\"<όνομα στήλης>\", ascending=False)```"
      ],
      "metadata": {
        "id": "TFEnzPbn5P2a"
      }
    },
    {
      "cell_type": "code",
      "source": [
        "# ταξινομήστε το dataframe ως προς τη στήλη του προσδόκιμου ζωής, σε φθήνουσα σειρά\n",
        "# και εμφανίστε μόνο το πρώτο row, με τη χρήση του head()\n",
        "# αυτό απαντά στο ερώτημα: ποια είναι η χώρα με το μεγαλύτερο προσδόκιμο ζωής\n",
        "\n"
      ],
      "metadata": {
        "id": "rVU9NJm_0NWf"
      },
      "execution_count": 40,
      "outputs": []
    },
    {
      "cell_type": "code",
      "source": [
        "# βρείτε τη χώρα με το μικρότερο κατά κεφαλήν εισόδημα\n",
        "\n"
      ],
      "metadata": {
        "id": "pyFi0OpJ8NXP"
      },
      "execution_count": 41,
      "outputs": []
    },
    {
      "cell_type": "markdown",
      "source": [
        "\n",
        "\n",
        "---\n",
        "\n"
      ],
      "metadata": {
        "id": "YwXOkRRM9QBR"
      }
    },
    {
      "cell_type": "markdown",
      "source": [
        "## Πώς φιλτράρω το dataframe\n",
        "\n",
        "Με τη χρήση συγκριτικών τελεστών"
      ],
      "metadata": {
        "id": "GIqoCqCTBU7r"
      }
    },
    {
      "cell_type": "markdown",
      "source": [
        "![image.png](data:image/png;base64,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)"
      ],
      "metadata": {
        "id": "g5l-zEh99iei"
      }
    },
    {
      "cell_type": "markdown",
      "source": [
        "Το φιλτράρισμα, για να μη μπερδεύομαι το κάνω σε 2 στάδια:\n",
        "\n",
        "1. κάνω τη σύγκριση σε ένα column του dataframe με μια τιμή, με τη σύνταξη ```<όνομα df>[\"<όνομα στήλης>\"] <συγκριτικός τελεστής> <τιμή σύγκρισης>```\n",
        "\n",
        "π.χ. ```df[\"life_expectancy] >= 75```\n",
        "\n",
        "Αυτό επιστρέφει ένα df που περιέχει μόνο τη στήλη που συγκρίνουμε και τιμές True ή False ανάλογα με το αποτέλεσμα της σύγκρισης της τιμής σε κάθε row με την τιμή σύγκρισης"
      ],
      "metadata": {
        "id": "vUzmmPFP-9zB"
      }
    },
    {
      "cell_type": "code",
      "source": [
        "# συγκρίνετε τη στήλη \"life_expectancy\" με το 79 (οι τιμές της στήλης να είναι μεγαλύτερες ή ίσες με 79)\n",
        "\n"
      ],
      "metadata": {
        "id": "vYGexUKk-5lD"
      },
      "execution_count": 42,
      "outputs": []
    },
    {
      "cell_type": "markdown",
      "source": [
        "2. Στο δεύτερο στάδιο, βάζω όλο τον προηγούμενο κώδικα (που κάνει τη σύγκριση) μέσα σε square brackets και μπροστά βάζω το όνομα του df.\n",
        "\n",
        "Ολόκληρη η σύνταξη στο δεύτερο στάδιο είναι η εξής: ```<όνομα df>[<όνομα df>[\"<όνομα στήλης>\"] <συγκριτικός τελεστής> <τιμή σύγκρισης>]```\n",
        "\n",
        "π.χ. ```df[df[\"life_expectancy\"] >= 75]```\n",
        "\n",
        "Αυτό επιστρέφει το φιλτραρισμένο df"
      ],
      "metadata": {
        "id": "dprUPUrxE_sM"
      }
    },
    {
      "cell_type": "code",
      "source": [
        "# φιλτράρετε το dataframe έτσι ώστε να περιέχει μόνο τα rows που η τιμή τους στη στήλη \"life_expectancy\" είναι μεγαλύτερη από 79\n",
        "# αυτό απαντάει στο ερώτημα: ποιες χώρες έχουν προσδόκιμο ζωής μεγαλύτερο ή ίσο με 79;\n",
        "\n"
      ],
      "metadata": {
        "id": "BL6YlIzm9Sj_"
      },
      "execution_count": 43,
      "outputs": []
    },
    {
      "cell_type": "markdown",
      "source": [
        "\n",
        "\n",
        "---\n",
        "\n"
      ],
      "metadata": {
        "id": "RUG6dTGiUM8H"
      }
    },
    {
      "cell_type": "code",
      "source": [
        "# φιλτράρετε το dataframe έτσι ώστε να περιέχει μόνο τα rows που η τιμή τους στη στήλη \"gdp_per_capita\" να είναι μεγαλύτερη από το μέσο όρο του \"gdp_per_capita\"\n",
        "\n"
      ],
      "metadata": {
        "id": "-QTnXageUWoC"
      },
      "execution_count": 44,
      "outputs": []
    },
    {
      "cell_type": "code",
      "source": [
        "# στον παραπάνω κώδικα που γράψατε προσθέστε τον κώδικα που χρειάζεται\n",
        "# για να ταξινομίσετε το φιλτραρισμένο dataframe ώς προς το \"gdp_per_capita\" σε φθήνουσα σειρά και\n",
        "#δείξτε τις 5 πρώτες γραμμές\n",
        "\n"
      ],
      "metadata": {
        "id": "IRL5khRrfP_x"
      },
      "execution_count": 45,
      "outputs": []
    },
    {
      "cell_type": "markdown",
      "source": [
        "\n",
        "\n",
        "---\n",
        "\n"
      ],
      "metadata": {
        "id": "LBI_vZCRUcOX"
      }
    },
    {
      "cell_type": "markdown",
      "source": [
        "Μπορώ να φιλτράρω και με περισσότερα από ένα κριτήρια σύγκρισης.\n",
        "\n",
        "Αυτό γίνεται με τη χρήση των τελεστών ```&``` (και) και ```|``` (ή).\n",
        "\n",
        "Η λογική είναι η εξής:\n",
        "1. πρώτα ορίζω το πρώτο φιλτράρισμα όπως προηγουμένως: π.χ. ```(df[\"life_expectancy\"] >= 79)```\n",
        "\n",
        "2. μετά ορίζω το δεύτερο φιλτράρισμα με τον ίδιο τρόπο: π.χ. ```(df[\"life_expectancy\"] <= 80)```\n",
        "\n",
        "3. μετά ενώνω τους 2 παραπάνω κώδικες με τον τελεστή ```&``` (ή το ```|```). π.χ. ```(df[\"life_expectancy\"] >= 79) & (df[\"life_expectancy\"] <= 80)``` Αυτό επιστρέφει ένα dataframe που περιέχει μόνο τη στήλη που ορίσαμε με τιμές True ή False ανάλογα με το συνδυασμό των 2 συγκρίσεων\n",
        "\n",
        "4. τέλος βάζω όλο αυτό τον κώδικα μέσα σε square brackets και μπροστά βάζω το όνομα του dataframe. π.χ. ```df[(df[\"life_expectancy\"] >=79) & (df[\"life_expectancy\"] <= 80)]```\n",
        "\n",
        "Το παραπάνω παράδειγμα φέρνει μόνο τα rows στα οποία το προσδόκιμο ζωής είναι μεγαλύτερο ή ίσο με 79 και μικρότερο ή ίσο με 80.\n",
        "\n",
        "Κάτι τέτοιο θα ήταν χρήσιμο αν, για παράδειγμα, είχαμε ένα csv με άρθρα ενός ολόκληρου έτους από ένα site, αλλά εμείς θέλουμε μόνο τα άρθρα μεταξύ δύο ημερομηνιών."
      ],
      "metadata": {
        "id": "sO32hEc8HGy_"
      }
    },
    {
      "cell_type": "code",
      "source": [
        "# υλοποιήστε σε στάδια το παραπάνω παράδειγμα\n",
        "# στάδιο 1\n",
        "\n"
      ],
      "metadata": {
        "id": "CQWMRCMUHBEt"
      },
      "execution_count": 46,
      "outputs": []
    },
    {
      "cell_type": "code",
      "source": [
        "# στάδιο 2\n",
        "\n"
      ],
      "metadata": {
        "id": "eONJ2LwqTDBD"
      },
      "execution_count": 47,
      "outputs": []
    },
    {
      "cell_type": "code",
      "source": [
        "# στάδιο 3\n",
        "\n"
      ],
      "metadata": {
        "id": "j-qH5xatTQKh"
      },
      "execution_count": 48,
      "outputs": []
    },
    {
      "cell_type": "code",
      "source": [
        "# στάδιο 4\n",
        "\n"
      ],
      "metadata": {
        "id": "fEatqNgaTj9r"
      },
      "execution_count": 49,
      "outputs": []
    },
    {
      "cell_type": "markdown",
      "source": [
        "\n",
        "\n",
        "---\n",
        "\n"
      ],
      "metadata": {
        "id": "9xzB1Uo9kjWo"
      }
    },
    {
      "cell_type": "markdown",
      "source": [
        "## Άσκηση\n",
        "\n",
        "Θέστε 3 ερωτήματα στα δεδομένα του dataframe και απαντήστε τα με τις τεχνικές που χρησιμοποιήσατε παραπάνω."
      ],
      "metadata": {
        "id": "LCOHSCA4LN_O"
      }
    },
    {
      "cell_type": "code",
      "source": [
        "import pandas as pd\n",
        "#Φέρνουμε το csv από το gitghub\n",
        "df = pd.read_csv(\"https://raw.githubusercontent.com/datajour-gr/DataJournalism/refs/heads/main/Bachelor%20Lessons%202023/Lesson%203/countries.csv\")\n",
        "#Δείχνουμε τις πρώτες 5 γραμμές\n",
        "df.head()\n",
        "#Δείχνουμε τις διαστάσεις του dataframe\n",
        "print(\"Διαστάσεις:\", df.shape)\n",
        "#Δείχνουμε τα ονόματα των στηλών\n",
        "print(\"Ονόματα στηλών:\", df.columns)\n",
        "#Δείχνουμε τον τύπο δεδομένων των στηλών\n",
        "print(\"Τύποι δεδομένων:\\n\", df.dtypes)\n",
        "#Παγκόσμιος πληθυσμός\n",
        "print(\"Συνολικός παγκόσμιος πληθυσμός:\", df[\"population\"].sum())\n",
        "#Χώρα με το μεγαλύτερο προσδόκιμο ζωής\n",
        "print(\"Χώρα με το μεγαλύτερο προσδόκιμο ζωής:\")\n",
        "print(df.sort_values(\"life_expectancy\", ascending=False).head(1))\n",
        "#Φιλτράρισμα: χώρες με gdp_per_capita πάνω από τον μέσο όρο\n",
        "mean_gdp = df[\"gdp_per_capita\"].mean()\n",
        "rich_countries = df[df[\"gdp_per_capita\"] > mean_gdp]\n",
        "#Ταξινόμηση και εμφάνιση των 5 πρώτων πλουσιότερων χωρών κατά κεφαλήν\n",
        "print(\"Οι 5 χώρες με το υψηλότερο κατά κεφαλήν εισόδημα:\")\n",
        "print(rich_countries.sort_values(\"gdp_per_capita\", ascending=False).head())\n",
        "#Δείχνουμε τις διαστάσεις του dataframe\n",
        "print(\"Διαστάσεις:\", df.shape)\n",
        "#Δείχνουμε τα ονόματα των στηλών\n",
        "import pandas as pd\n",
        "#Φέρνουμε το csv από το gitghub\n",
        "df = pd.read_csv(\"https://raw.githubusercontent.com/datajour-gr/DataJournalism/refs/heads/main/Bachelor%20Lessons%202023/Lesson%203/countries.csv\")\n",
        "#Δείχνουμε τις πρώτες 5 γραμμές\n",
        "df.head()\n",
        "#Δείχνουμε τις διαστάσεις του dataframe\n",
        "print(\"Διαστάσεις:\", df.shape)\n",
        "#Δείχνουμε τα ονόματα των στηλών\n",
        "print(\"Ονόματα στηλών:\", df.columns)\n",
        "#Δείχνουμε τον τύπο δεδομένων των στηλών\n",
        "print(\"Τύποι δεδομένων:\\n\", df.dtypes)\n",
        "#Παγκόσμιος πληθυσμός\n",
        "print(\"Συνολικός παγκόσμιος πληθυσμός:\", df[\"population\"].sum())\n",
        "#Χώρα με το μεγαλύτερο προσδόκιμο ζωής\n",
        "print(\"Χώρα με το μεγαλύτερο προσδόκιμο ζωής:\")\n",
        "print(df.sort_values(\"life_expectancy\", ascending=False).head(1))\n",
        "#Φιλτράρισμα: χώρες με gdp_per_capita πάνω από τον μέσο όρο\n",
        "mean_gdp = df[\"gdp_per_capita\"].mean()\n",
        "rich_countries = df[df[\"gdp_per_capita\"] > mean_gdp]\n",
        "#Ταξινόμηση και εμφάνιση των 5 πρώτων πλουσιότερων χωρών κατά κεφαλήν\n",
        "print(\"Οι 5 χώρες με το υψηλότερο κατά κεφαλήν εισόδημα:\")\n",
        "print(rich_countries.sort_values(\"gdp_per_capita\", ascending=False).head())\n",
        "#Δείχνουμε τις διαστάσεις του dataframe\n",
        "print(\"Διαστάσεις:\", df.shape)\n",
        "#Δείχνουμε τα ονόματα των στηλών\n",
        "print(\"Ονόματα στηλών:\", df.columns)\n",
        "#Δείχνουμε τον τύπο δεδομένων των στηλών\n",
        "print(\"Τύποι δεδομένων:\\n\", df.dtypes)\n",
        "#Παγκόσμιος πληθυσμός\n",
        "print(\"Συνολικός παγκόσμιος πληθυσμός:\", df[\"population\"].sum())\n",
        "#Χώρα με το μεγαλύτερο προσδόκιμο ζωής\n",
        "print(\"Χώρα με το μεγαλύτερο προσδόκιμο ζωής:\")\n",
        "print(df.sort_values(\"life_expectancy\", ascending=False).head(1))\n",
        "#Φιλτράρισμα: χώρες με gdp_per_capita πάνω από τον μέσο όρο\n",
        "mean_gdp = df[\"gdp_per_capita\"].mean()\n",
        "rich_countries = df[df[\"gdp_per_capita\"] > mean_gdp]\n",
        "#Ταξινόμηση και εμφάνιση των 5 πρώτων πλουσιότερων χωρών κατά κεφαλήν\n",
        "print(\"Οι 5 χώρες με το υψηλότερο κατά κεφαλήν εισόδημα:\")\n",
        "print(rich_countries.sort_values(\"gdp_per_capita\", ascending=False).head())\n",
        "#Χώρα με το μεγαλύτερο προσδόκιμο ζωής\n",
        "print(\"Χώρα με το μεγαλύτερο προσδόκιμο ζωής:\")\n",
        "print(df.sort_values(\"life_expectancy\", ascending=False).head(1))\n",
        "import pandas as pd\n",
        "#Φέρνουμε το csv από το gitghub\n",
        "df = pd.read_csv(\"https://raw.githubusercontent.com/datajour-gr/DataJournalism/refs/heads/main/Bachelor%20Lessons%202023/Lesson%203/countries.csv\")\n",
        "#Δείχνουμε τις πρώτες 5 γραμμές\n",
        "df.head()\n",
        "#Δείχνουμε τις διαστάσεις του dataframe\n",
        "print(\"Διαστάσεις:\", df.shape)\n",
        "#Δείχνουμε τα ονόματα των στηλών\n",
        "print(\"Ονόματα στηλών:\", df.columns)\n",
        "#Δείχνουμε τον τύπο δεδομένων των στηλών\n",
        "print(\"Τύποι δεδομένων:\\n\", df.dtypes)\n",
        "#Παγκόσμιος πληθυσμός\n",
        "print(\"Συνολικός παγκόσμιος πληθυσμός:\", df[\"population\"].sum())\n",
        "#Χώρα με το μεγαλύτερο προσδόκιμο ζωής\n",
        "print(\"Χώρα με το μεγαλύτερο προσδόκιμο ζωής:\")\n",
        "print(df.sort_values(\"life_expectancy\", ascending=False).head(1))\n",
        "#Φιλτράρισμα: χώρες με gdp_per_capita πάνω από τον μέσο όρο\n",
        "mean_gdp = df[\"gdp_per_capita\"].mean()\n",
        "rich_countries = df[df[\"gdp_per_capita\"] > mean_gdp]\n",
        "#Ταξινόμηση και εμφάνιση των 5 πρώτων πλουσιότερων χωρών κατά κεφαλήν\n",
        "print(\"Οι 5 χώρες με το υψηλότερο κατά κεφαλήν εισόδημα:\")\n",
        "print(rich_countries.sort_values(\"gdp_per_capita\", ascending=False).head())\n",
        "#Δείχνουμε τις διαστάσεις του dataframe\n",
        "print(\"Διαστάσεις:\", df.shape)\n",
        "#Δείχνουμε τα ονόματα των στηλών\n",
        "import pandas as pd\n",
        "#Φέρνουμε το csv από το gitghub\n",
        "df = pd.read_csv(\"https://raw.githubusercontent.com/datajour-gr/DataJournalism/refs/heads/main/Bachelor%20Lessons%202023/Lesson%203/countries.csv\")\n",
        "#Δείχνουμε τις πρώτες 5 γραμμές\n",
        "df.head()\n",
        "#Δείχνουμε τις διαστάσεις του dataframe\n",
        "print(\"Διαστάσεις:\", df.shape)\n",
        "#Δείχνουμε τα ονόματα των στηλών\n",
        "print(\"Ονόματα στηλών:\", df.columns)\n",
        "#Δείχνουμε τον τύπο δεδομένων των στηλών\n",
        "print(\"Τύποι δεδομένων:\\n\", df.dtypes)\n",
        "#Παγκόσμιος πληθυσμός\n",
        "print(\"Συνολικός παγκόσμιος πληθυσμός:\", df[\"population\"].sum())\n",
        "#Χώρα με το μεγαλύτερο προσδόκιμο ζωής\n",
        "print(\"Χώρα με το μεγαλύτερο προσδόκιμο ζωής:\")\n",
        "print(df.sort_values(\"life_expectancy\", ascending=False).head(1))\n",
        "#Φιλτράρισμα: χώρες με gdp_per_capita πάνω από τον μέσο όρο\n",
        "mean_gdp = df[\"gdp_per_capita\"].mean()\n",
        "rich_countries = df[df[\"gdp_per_capita\"] > mean_gdp]\n",
        "#Ταξινόμηση και εμφάνιση των 5 πρώτων πλουσιότερων χωρών κατά κεφαλήν\n",
        "print(\"Οι 5 χώρες με το υψηλότερο κατά κεφαλήν εισόδημα:\")\n",
        "print(rich_countries.sort_values(\"gdp_per_capita\", ascending=False).head())\n",
        "#Δείχνουμε τις διαστάσεις του dataframe\n",
        "print(\"Διαστάσεις:\", df.shape)\n",
        "#Δείχνουμε τα ονόματα των στηλών\n",
        "print(\"Ονόματα στηλών:\", df.columns)\n",
        "#Δείχνουμε τον τύπο δεδομένων των στηλών\n",
        "print(\"Τύποι δεδομένων:\\n\", df.dtypes)\n",
        "#Παγκόσμιος πληθυσμός\n",
        "print(\"Συνολικός παγκόσμιος πληθυσμός:\", df[\"population\"].sum())\n",
        "#Χώρα με το μεγαλύτερο προσδόκιμο ζωής\n",
        "print(\"Χώρα με το μεγαλύτερο προσδόκιμο ζωής:\")\n",
        "print(df.sort_values(\"life_expectancy\", ascending=False).head(1))\n",
        "#Φιλτράρισμα: χώρες με gdp_per_capita πάνω από τον μέσο όρο\n",
        "mean_gdp = df[\"gdp_per_capita\"].mean()\n",
        "rich_countries = df[df[\"gdp_per_capita\"] > mean_gdp]\n",
        "#Ταξινόμηση και εμφάνιση των 5 πρώτων πλουσιότερων χωρών κατά κεφαλήν\n",
        "print(\"Οι 5 χώρες με το υψηλότερο κατά κεφαλήν εισόδημα:\")\n",
        "print(rich_countries.sort_values(\"gdp_per_capita\", ascending=False).head())\n",
        "#Χώρα με το μεγαλύτερο προσδόκιμο ζωής\n",
        "print(\"Χώρα με το μεγαλύτερο προσδόκιμο ζωής:\")\n",
        "print(df.sort_values(\"life_expectancy\", ascending=False).head(1))\n",
        "#Φιλτράρισμα: χώρες με gdp_per_capita πάνω από τον μέσο όρο\n",
        "mean_gdp = df[\"gdp_per_capita\"].mean()\n",
        "rich_countries = df[df[\"gdp_per_capita\"] > mean_gdp]\n",
        "#Ταξινόμηση και εμφάνιση των 5 πρώτων πλουσιότερων χωρών κατά κεφαλήν\n",
        "print(\"Οι 5 χώρες με το υψηλότερο κατά κεφαλήν εισόδημα:\")\n",
        "print(rich_countries.sort_values(\"gdp_per_capita\", ascending=False).head())\n",
        "print(rich_countries.sort_values(\"gdp_per_capita\", ascending=False).head())\n"
      ],
      "metadata": {
        "id": "prlWCyrnkmib",
        "colab": {
          "base_uri": "https://localhost:8080/"
        },
        "outputId": "a2671268-00ca-4463-8df9-48d0dfd1b603"
      },
      "execution_count": 55,
      "outputs": [
        {
          "output_type": "stream",
          "name": "stdout",
          "text": [
            "Διαστάσεις: (188, 5)\n",
            "Ονόματα στηλών: Index(['country', 'continent', 'gdp_per_capita', 'life_expectancy',\n",
            "       'population'],\n",
            "      dtype='object')\n",
            "Τύποι δεδομένων:\n",
            " country             object\n",
            "continent           object\n",
            "gdp_per_capita       int64\n",
            "life_expectancy    float64\n",
            "population           int64\n",
            "dtype: object\n",
            "Συνολικός παγκόσμιος πληθυσμός: 6115042358\n",
            "Χώρα με το μεγαλύτερο προσδόκιμο ζωής:\n",
            "   country continent  gdp_per_capita  life_expectancy  population\n",
            "83   Japan      Asia           28559            81.35   125720310\n",
            "Οι 5 χώρες με το υψηλότερο κατά κεφαλήν εισόδημα:\n",
            "           country   continent  gdp_per_capita  life_expectancy  population\n",
            "99      Luxembourg      Europe           63924           77.820      435491\n",
            "135          Qatar        Asia           60394           76.680      590957\n",
            "23          Brunei        Asia           48020           75.927      327036\n",
            "125         Norway      Europe           43174           78.760     4490859\n",
            "178  United States  N. America           39758           76.800   282496310\n",
            "Διαστάσεις: (188, 5)\n",
            "Διαστάσεις: (188, 5)\n",
            "Ονόματα στηλών: Index(['country', 'continent', 'gdp_per_capita', 'life_expectancy',\n",
            "       'population'],\n",
            "      dtype='object')\n",
            "Τύποι δεδομένων:\n",
            " country             object\n",
            "continent           object\n",
            "gdp_per_capita       int64\n",
            "life_expectancy    float64\n",
            "population           int64\n",
            "dtype: object\n",
            "Συνολικός παγκόσμιος πληθυσμός: 6115042358\n",
            "Χώρα με το μεγαλύτερο προσδόκιμο ζωής:\n",
            "   country continent  gdp_per_capita  life_expectancy  population\n",
            "83   Japan      Asia           28559            81.35   125720310\n",
            "Οι 5 χώρες με το υψηλότερο κατά κεφαλήν εισόδημα:\n",
            "           country   continent  gdp_per_capita  life_expectancy  population\n",
            "99      Luxembourg      Europe           63924           77.820      435491\n",
            "135          Qatar        Asia           60394           76.680      590957\n",
            "23          Brunei        Asia           48020           75.927      327036\n",
            "125         Norway      Europe           43174           78.760     4490859\n",
            "178  United States  N. America           39758           76.800   282496310\n",
            "Διαστάσεις: (188, 5)\n",
            "Ονόματα στηλών: Index(['country', 'continent', 'gdp_per_capita', 'life_expectancy',\n",
            "       'population'],\n",
            "      dtype='object')\n",
            "Τύποι δεδομένων:\n",
            " country             object\n",
            "continent           object\n",
            "gdp_per_capita       int64\n",
            "life_expectancy    float64\n",
            "population           int64\n",
            "dtype: object\n",
            "Συνολικός παγκόσμιος πληθυσμός: 6115042358\n",
            "Χώρα με το μεγαλύτερο προσδόκιμο ζωής:\n",
            "   country continent  gdp_per_capita  life_expectancy  population\n",
            "83   Japan      Asia           28559            81.35   125720310\n",
            "Οι 5 χώρες με το υψηλότερο κατά κεφαλήν εισόδημα:\n",
            "           country   continent  gdp_per_capita  life_expectancy  population\n",
            "99      Luxembourg      Europe           63924           77.820      435491\n",
            "135          Qatar        Asia           60394           76.680      590957\n",
            "23          Brunei        Asia           48020           75.927      327036\n",
            "125         Norway      Europe           43174           78.760     4490859\n",
            "178  United States  N. America           39758           76.800   282496310\n",
            "Χώρα με το μεγαλύτερο προσδόκιμο ζωής:\n",
            "   country continent  gdp_per_capita  life_expectancy  population\n",
            "83   Japan      Asia           28559            81.35   125720310\n",
            "Διαστάσεις: (188, 5)\n",
            "Ονόματα στηλών: Index(['country', 'continent', 'gdp_per_capita', 'life_expectancy',\n",
            "       'population'],\n",
            "      dtype='object')\n",
            "Τύποι δεδομένων:\n",
            " country             object\n",
            "continent           object\n",
            "gdp_per_capita       int64\n",
            "life_expectancy    float64\n",
            "population           int64\n",
            "dtype: object\n",
            "Συνολικός παγκόσμιος πληθυσμός: 6115042358\n",
            "Χώρα με το μεγαλύτερο προσδόκιμο ζωής:\n",
            "   country continent  gdp_per_capita  life_expectancy  population\n",
            "83   Japan      Asia           28559            81.35   125720310\n",
            "Οι 5 χώρες με το υψηλότερο κατά κεφαλήν εισόδημα:\n",
            "           country   continent  gdp_per_capita  life_expectancy  population\n",
            "99      Luxembourg      Europe           63924           77.820      435491\n",
            "135          Qatar        Asia           60394           76.680      590957\n",
            "23          Brunei        Asia           48020           75.927      327036\n",
            "125         Norway      Europe           43174           78.760     4490859\n",
            "178  United States  N. America           39758           76.800   282496310\n",
            "Διαστάσεις: (188, 5)\n",
            "Διαστάσεις: (188, 5)\n",
            "Ονόματα στηλών: Index(['country', 'continent', 'gdp_per_capita', 'life_expectancy',\n",
            "       'population'],\n",
            "      dtype='object')\n",
            "Τύποι δεδομένων:\n",
            " country             object\n",
            "continent           object\n",
            "gdp_per_capita       int64\n",
            "life_expectancy    float64\n",
            "population           int64\n",
            "dtype: object\n",
            "Συνολικός παγκόσμιος πληθυσμός: 6115042358\n",
            "Χώρα με το μεγαλύτερο προσδόκιμο ζωής:\n",
            "   country continent  gdp_per_capita  life_expectancy  population\n",
            "83   Japan      Asia           28559            81.35   125720310\n",
            "Οι 5 χώρες με το υψηλότερο κατά κεφαλήν εισόδημα:\n",
            "           country   continent  gdp_per_capita  life_expectancy  population\n",
            "99      Luxembourg      Europe           63924           77.820      435491\n",
            "135          Qatar        Asia           60394           76.680      590957\n",
            "23          Brunei        Asia           48020           75.927      327036\n",
            "125         Norway      Europe           43174           78.760     4490859\n",
            "178  United States  N. America           39758           76.800   282496310\n",
            "Διαστάσεις: (188, 5)\n",
            "Ονόματα στηλών: Index(['country', 'continent', 'gdp_per_capita', 'life_expectancy',\n",
            "       'population'],\n",
            "      dtype='object')\n",
            "Τύποι δεδομένων:\n",
            " country             object\n",
            "continent           object\n",
            "gdp_per_capita       int64\n",
            "life_expectancy    float64\n",
            "population           int64\n",
            "dtype: object\n",
            "Συνολικός παγκόσμιος πληθυσμός: 6115042358\n",
            "Χώρα με το μεγαλύτερο προσδόκιμο ζωής:\n",
            "   country continent  gdp_per_capita  life_expectancy  population\n",
            "83   Japan      Asia           28559            81.35   125720310\n",
            "Οι 5 χώρες με το υψηλότερο κατά κεφαλήν εισόδημα:\n",
            "           country   continent  gdp_per_capita  life_expectancy  population\n",
            "99      Luxembourg      Europe           63924           77.820      435491\n",
            "135          Qatar        Asia           60394           76.680      590957\n",
            "23          Brunei        Asia           48020           75.927      327036\n",
            "125         Norway      Europe           43174           78.760     4490859\n",
            "178  United States  N. America           39758           76.800   282496310\n",
            "Χώρα με το μεγαλύτερο προσδόκιμο ζωής:\n",
            "   country continent  gdp_per_capita  life_expectancy  population\n",
            "83   Japan      Asia           28559            81.35   125720310\n",
            "Οι 5 χώρες με το υψηλότερο κατά κεφαλήν εισόδημα:\n",
            "           country   continent  gdp_per_capita  life_expectancy  population\n",
            "99      Luxembourg      Europe           63924           77.820      435491\n",
            "135          Qatar        Asia           60394           76.680      590957\n",
            "23          Brunei        Asia           48020           75.927      327036\n",
            "125         Norway      Europe           43174           78.760     4490859\n",
            "178  United States  N. America           39758           76.800   282496310\n",
            "           country   continent  gdp_per_capita  life_expectancy  population\n",
            "99      Luxembourg      Europe           63924           77.820      435491\n",
            "135          Qatar        Asia           60394           76.680      590957\n",
            "23          Brunei        Asia           48020           75.927      327036\n",
            "125         Norway      Europe           43174           78.760     4490859\n",
            "178  United States  N. America           39758           76.800   282496310\n"
          ]
        }
      ]
    },
    {
      "cell_type": "code",
      "source": [
        "import pandas as pd\n",
        "df = pd.read_csv(\"https://raw.githubusercontent.com/datajour-gr/DataJournalism/refs/heads/main/Bachelor%20Lessons%202023/Lesson%203/countries.csv\")\n",
        "\n",
        "#Φιλτράρισμα με δύο συνθήκες\n",
        "filtered_df = df[(df[\"population\"] > 100_000_000) & (df[\"life_expectancy\"] > 75)]\n",
        "filtered_df[[\"country\", \"population\", \"life_expectancy\"]]\n",
        "filtered_df = df[(df[\"population\"] > 100_000_000) & (df[\"life_expectancy\"] > 75)]\n",
        "filtered_df[[\"country\", \"population\", \"life_expectancy\"]]\n",
        "filtered_df = df[(df[\"population\"] > 100_000_000) & (df[\"life_expectancy\"] > 75)]\n",
        "filtered_df[[\"country\", \"population\", \"life_expectancy\"]]\n",
        "filtered_df = df[(df[\"population\"] > 100_000_000) & (df[\"life_expectancy\"] > 75)]\n",
        "filtered_df[[\"country\", \"population\", \"life_expectancy\"]]\n",
        "filtered_df = df[(df[\"population\"] > 100_000_000) & (df[\"life_expectancy\"] > 75)]\n",
        "filtered_df[[\"country\", \"population\", \"life_expectancy\"]]\n",
        "filtered_df = df[(df[\"population\"] > 100_000_000) & (df[\"life_expectancy\"] > 75)]\n",
        "filtered_df[[\"country\", \"population\", \"life_expectancy\"]]\n",
        "filtered_df = df[(df[\"population\"] > 100_000_000) & (df[\"life_expectancy\"] > 75)]\n",
        "filtered_df[[\"country\", \"population\", \"life_expectancy\"]]\n",
        "filtered_df = df[(df[\"population\"] > 100_000_000) & (df[\"life_expectancy\"] > 75)]\n",
        "filtered_df[[\"country\", \"population\", \"life_expectancy\"]]\n"
      ],
      "metadata": {
        "colab": {
          "base_uri": "https://localhost:8080/",
          "height": 112
        },
        "id": "WyNJ-kF52znd",
        "outputId": "6891e622-c994-4b3d-808c-73777d77b426"
      },
      "execution_count": 59,
      "outputs": [
        {
          "output_type": "execute_result",
          "data": {
            "text/plain": [
              "           country  population  life_expectancy\n",
              "83           Japan   125720310            81.35\n",
              "178  United States   282496310            76.80"
            ],
            "text/html": [
              "\n",
              "  <div id=\"df-71037e12-5d05-4b55-b0e7-9fa6d49f2501\" class=\"colab-df-container\">\n",
              "    <div>\n",
              "<style scoped>\n",
              "    .dataframe tbody tr th:only-of-type {\n",
              "        vertical-align: middle;\n",
              "    }\n",
              "\n",
              "    .dataframe tbody tr th {\n",
              "        vertical-align: top;\n",
              "    }\n",
              "\n",
              "    .dataframe thead th {\n",
              "        text-align: right;\n",
              "    }\n",
              "</style>\n",
              "<table border=\"1\" class=\"dataframe\">\n",
              "  <thead>\n",
              "    <tr style=\"text-align: right;\">\n",
              "      <th></th>\n",
              "      <th>country</th>\n",
              "      <th>population</th>\n",
              "      <th>life_expectancy</th>\n",
              "    </tr>\n",
              "  </thead>\n",
              "  <tbody>\n",
              "    <tr>\n",
              "      <th>83</th>\n",
              "      <td>Japan</td>\n",
              "      <td>125720310</td>\n",
              "      <td>81.35</td>\n",
              "    </tr>\n",
              "    <tr>\n",
              "      <th>178</th>\n",
              "      <td>United States</td>\n",
              "      <td>282496310</td>\n",
              "      <td>76.80</td>\n",
              "    </tr>\n",
              "  </tbody>\n",
              "</table>\n",
              "</div>\n",
              "    <div class=\"colab-df-buttons\">\n",
              "\n",
              "  <div class=\"colab-df-container\">\n",
              "    <button class=\"colab-df-convert\" onclick=\"convertToInteractive('df-71037e12-5d05-4b55-b0e7-9fa6d49f2501')\"\n",
              "            title=\"Convert this dataframe to an interactive table.\"\n",
              "            style=\"display:none;\">\n",
              "\n",
              "  <svg xmlns=\"http://www.w3.org/2000/svg\" height=\"24px\" viewBox=\"0 -960 960 960\">\n",
              "    <path d=\"M120-120v-720h720v720H120Zm60-500h600v-160H180v160Zm220 220h160v-160H400v160Zm0 220h160v-160H400v160ZM180-400h160v-160H180v160Zm440 0h160v-160H620v160ZM180-180h160v-160H180v160Zm440 0h160v-160H620v160Z\"/>\n",
              "  </svg>\n",
              "    </button>\n",
              "\n",
              "  <style>\n",
              "    .colab-df-container {\n",
              "      display:flex;\n",
              "      gap: 12px;\n",
              "    }\n",
              "\n",
              "    .colab-df-convert {\n",
              "      background-color: #E8F0FE;\n",
              "      border: none;\n",
              "      border-radius: 50%;\n",
              "      cursor: pointer;\n",
              "      display: none;\n",
              "      fill: #1967D2;\n",
              "      height: 32px;\n",
              "      padding: 0 0 0 0;\n",
              "      width: 32px;\n",
              "    }\n",
              "\n",
              "    .colab-df-convert:hover {\n",
              "      background-color: #E2EBFA;\n",
              "      box-shadow: 0px 1px 2px rgba(60, 64, 67, 0.3), 0px 1px 3px 1px rgba(60, 64, 67, 0.15);\n",
              "      fill: #174EA6;\n",
              "    }\n",
              "\n",
              "    .colab-df-buttons div {\n",
              "      margin-bottom: 4px;\n",
              "    }\n",
              "\n",
              "    [theme=dark] .colab-df-convert {\n",
              "      background-color: #3B4455;\n",
              "      fill: #D2E3FC;\n",
              "    }\n",
              "\n",
              "    [theme=dark] .colab-df-convert:hover {\n",
              "      background-color: #434B5C;\n",
              "      box-shadow: 0px 1px 3px 1px rgba(0, 0, 0, 0.15);\n",
              "      filter: drop-shadow(0px 1px 2px rgba(0, 0, 0, 0.3));\n",
              "      fill: #FFFFFF;\n",
              "    }\n",
              "  </style>\n",
              "\n",
              "    <script>\n",
              "      const buttonEl =\n",
              "        document.querySelector('#df-71037e12-5d05-4b55-b0e7-9fa6d49f2501 button.colab-df-convert');\n",
              "      buttonEl.style.display =\n",
              "        google.colab.kernel.accessAllowed ? 'block' : 'none';\n",
              "\n",
              "      async function convertToInteractive(key) {\n",
              "        const element = document.querySelector('#df-71037e12-5d05-4b55-b0e7-9fa6d49f2501');\n",
              "        const dataTable =\n",
              "          await google.colab.kernel.invokeFunction('convertToInteractive',\n",
              "                                                    [key], {});\n",
              "        if (!dataTable) return;\n",
              "\n",
              "        const docLinkHtml = 'Like what you see? Visit the ' +\n",
              "          '<a target=\"_blank\" href=https://colab.research.google.com/notebooks/data_table.ipynb>data table notebook</a>'\n",
              "          + ' to learn more about interactive tables.';\n",
              "        element.innerHTML = '';\n",
              "        dataTable['output_type'] = 'display_data';\n",
              "        await google.colab.output.renderOutput(dataTable, element);\n",
              "        const docLink = document.createElement('div');\n",
              "        docLink.innerHTML = docLinkHtml;\n",
              "        element.appendChild(docLink);\n",
              "      }\n",
              "    </script>\n",
              "  </div>\n",
              "\n",
              "\n",
              "    <div id=\"df-9813fc0d-493c-4d12-bf81-0504027a33fc\">\n",
              "      <button class=\"colab-df-quickchart\" onclick=\"quickchart('df-9813fc0d-493c-4d12-bf81-0504027a33fc')\"\n",
              "                title=\"Suggest charts\"\n",
              "                style=\"display:none;\">\n",
              "\n",
              "<svg xmlns=\"http://www.w3.org/2000/svg\" height=\"24px\"viewBox=\"0 0 24 24\"\n",
              "     width=\"24px\">\n",
              "    <g>\n",
              "        <path d=\"M19 3H5c-1.1 0-2 .9-2 2v14c0 1.1.9 2 2 2h14c1.1 0 2-.9 2-2V5c0-1.1-.9-2-2-2zM9 17H7v-7h2v7zm4 0h-2V7h2v10zm4 0h-2v-4h2v4z\"/>\n",
              "    </g>\n",
              "</svg>\n",
              "      </button>\n",
              "\n",
              "<style>\n",
              "  .colab-df-quickchart {\n",
              "      --bg-color: #E8F0FE;\n",
              "      --fill-color: #1967D2;\n",
              "      --hover-bg-color: #E2EBFA;\n",
              "      --hover-fill-color: #174EA6;\n",
              "      --disabled-fill-color: #AAA;\n",
              "      --disabled-bg-color: #DDD;\n",
              "  }\n",
              "\n",
              "  [theme=dark] .colab-df-quickchart {\n",
              "      --bg-color: #3B4455;\n",
              "      --fill-color: #D2E3FC;\n",
              "      --hover-bg-color: #434B5C;\n",
              "      --hover-fill-color: #FFFFFF;\n",
              "      --disabled-bg-color: #3B4455;\n",
              "      --disabled-fill-color: #666;\n",
              "  }\n",
              "\n",
              "  .colab-df-quickchart {\n",
              "    background-color: var(--bg-color);\n",
              "    border: none;\n",
              "    border-radius: 50%;\n",
              "    cursor: pointer;\n",
              "    display: none;\n",
              "    fill: var(--fill-color);\n",
              "    height: 32px;\n",
              "    padding: 0;\n",
              "    width: 32px;\n",
              "  }\n",
              "\n",
              "  .colab-df-quickchart:hover {\n",
              "    background-color: var(--hover-bg-color);\n",
              "    box-shadow: 0 1px 2px rgba(60, 64, 67, 0.3), 0 1px 3px 1px rgba(60, 64, 67, 0.15);\n",
              "    fill: var(--button-hover-fill-color);\n",
              "  }\n",
              "\n",
              "  .colab-df-quickchart-complete:disabled,\n",
              "  .colab-df-quickchart-complete:disabled:hover {\n",
              "    background-color: var(--disabled-bg-color);\n",
              "    fill: var(--disabled-fill-color);\n",
              "    box-shadow: none;\n",
              "  }\n",
              "\n",
              "  .colab-df-spinner {\n",
              "    border: 2px solid var(--fill-color);\n",
              "    border-color: transparent;\n",
              "    border-bottom-color: var(--fill-color);\n",
              "    animation:\n",
              "      spin 1s steps(1) infinite;\n",
              "  }\n",
              "\n",
              "  @keyframes spin {\n",
              "    0% {\n",
              "      border-color: transparent;\n",
              "      border-bottom-color: var(--fill-color);\n",
              "      border-left-color: var(--fill-color);\n",
              "    }\n",
              "    20% {\n",
              "      border-color: transparent;\n",
              "      border-left-color: var(--fill-color);\n",
              "      border-top-color: var(--fill-color);\n",
              "    }\n",
              "    30% {\n",
              "      border-color: transparent;\n",
              "      border-left-color: var(--fill-color);\n",
              "      border-top-color: var(--fill-color);\n",
              "      border-right-color: var(--fill-color);\n",
              "    }\n",
              "    40% {\n",
              "      border-color: transparent;\n",
              "      border-right-color: var(--fill-color);\n",
              "      border-top-color: var(--fill-color);\n",
              "    }\n",
              "    60% {\n",
              "      border-color: transparent;\n",
              "      border-right-color: var(--fill-color);\n",
              "    }\n",
              "    80% {\n",
              "      border-color: transparent;\n",
              "      border-right-color: var(--fill-color);\n",
              "      border-bottom-color: var(--fill-color);\n",
              "    }\n",
              "    90% {\n",
              "      border-color: transparent;\n",
              "      border-bottom-color: var(--fill-color);\n",
              "    }\n",
              "  }\n",
              "</style>\n",
              "\n",
              "      <script>\n",
              "        async function quickchart(key) {\n",
              "          const quickchartButtonEl =\n",
              "            document.querySelector('#' + key + ' button');\n",
              "          quickchartButtonEl.disabled = true;  // To prevent multiple clicks.\n",
              "          quickchartButtonEl.classList.add('colab-df-spinner');\n",
              "          try {\n",
              "            const charts = await google.colab.kernel.invokeFunction(\n",
              "                'suggestCharts', [key], {});\n",
              "          } catch (error) {\n",
              "            console.error('Error during call to suggestCharts:', error);\n",
              "          }\n",
              "          quickchartButtonEl.classList.remove('colab-df-spinner');\n",
              "          quickchartButtonEl.classList.add('colab-df-quickchart-complete');\n",
              "        }\n",
              "        (() => {\n",
              "          let quickchartButtonEl =\n",
              "            document.querySelector('#df-9813fc0d-493c-4d12-bf81-0504027a33fc button');\n",
              "          quickchartButtonEl.style.display =\n",
              "            google.colab.kernel.accessAllowed ? 'block' : 'none';\n",
              "        })();\n",
              "      </script>\n",
              "    </div>\n",
              "\n",
              "    </div>\n",
              "  </div>\n"
            ],
            "application/vnd.google.colaboratory.intrinsic+json": {
              "type": "dataframe",
              "summary": "{\n  \"name\": \"filtered_df[[\\\"country\\\", \\\"population\\\", \\\"life_expectancy\\\"]]\",\n  \"rows\": 2,\n  \"fields\": [\n    {\n      \"column\": \"country\",\n      \"properties\": {\n        \"dtype\": \"string\",\n        \"num_unique_values\": 2,\n        \"samples\": [\n          \"United States\",\n          \"Japan\"\n        ],\n        \"semantic_type\": \"\",\n        \"description\": \"\"\n      }\n    },\n    {\n      \"column\": \"population\",\n      \"properties\": {\n        \"dtype\": \"number\",\n        \"std\": 110857372,\n        \"min\": 125720310,\n        \"max\": 282496310,\n        \"num_unique_values\": 2,\n        \"samples\": [\n          282496310,\n          125720310\n        ],\n        \"semantic_type\": \"\",\n        \"description\": \"\"\n      }\n    },\n    {\n      \"column\": \"life_expectancy\",\n      \"properties\": {\n        \"dtype\": \"number\",\n        \"std\": 3.217335854398789,\n        \"min\": 76.8,\n        \"max\": 81.35,\n        \"num_unique_values\": 2,\n        \"samples\": [\n          76.8,\n          81.35\n        ],\n        \"semantic_type\": \"\",\n        \"description\": \"\"\n      }\n    }\n  ]\n}"
            }
          },
          "metadata": {},
          "execution_count": 59
        }
      ]
    },
    {
      "cell_type": "code",
      "source": [
        "#Ομαδοποίηση ανά ήπειρο και υπολογισμός μέσου όρου gdp_per_capita\n",
        "mean_gdp_by_continent = df.groupby(\"continent\")[\"gdp_per_capita\"].mean()\n",
        "print(mean_gdp_by_continent)"
      ],
      "metadata": {
        "colab": {
          "base_uri": "https://localhost:8080/"
        },
        "id": "XEJCb3ek5JoC",
        "outputId": "756a3471-7997-42bd-cf62-278e3408f579"
      },
      "execution_count": 62,
      "outputs": [
        {
          "output_type": "stream",
          "name": "stdout",
          "text": [
            "continent\n",
            "Africa         2621.648148\n",
            "Asia          11106.437500\n",
            "Europe        18647.880952\n",
            "N. America    11665.681818\n",
            "Oceania        8038.400000\n",
            "S. America     6738.583333\n",
            "Name: gdp_per_capita, dtype: float64\n"
          ]
        }
      ]
    },
    {
      "cell_type": "code",
      "source": [
        "# Ταξινόμηση κατά life_expectancy σε αύξουσα σειρά και εμφάνιση 5 πρώτων\n",
        "lowest_life_expectancy = df.sort_values(\"life_expectancy\").head(5)\n",
        "lowest_life_expectancy[[\"country\", \"life_expectancy\"]]"
      ],
      "metadata": {
        "colab": {
          "base_uri": "https://localhost:8080/",
          "height": 206
        },
        "id": "9BxPpJum5-Ss",
        "outputId": "f967f6a1-23a7-4afe-baf2-41a99d4f1d82"
      },
      "execution_count": 63,
      "outputs": [
        {
          "output_type": "execute_result",
          "data": {
            "text/plain": [
              "                  country  life_expectancy\n",
              "147          Sierra Leone           38.123\n",
              "186                Zambia           41.802\n",
              "31   Central African Rep.           43.727\n",
              "187              Zimbabwe           43.976\n",
              "3                  Angola           45.234"
            ],
            "text/html": [
              "\n",
              "  <div id=\"df-b2e434bf-a131-4486-856d-dc3733433c4a\" class=\"colab-df-container\">\n",
              "    <div>\n",
              "<style scoped>\n",
              "    .dataframe tbody tr th:only-of-type {\n",
              "        vertical-align: middle;\n",
              "    }\n",
              "\n",
              "    .dataframe tbody tr th {\n",
              "        vertical-align: top;\n",
              "    }\n",
              "\n",
              "    .dataframe thead th {\n",
              "        text-align: right;\n",
              "    }\n",
              "</style>\n",
              "<table border=\"1\" class=\"dataframe\">\n",
              "  <thead>\n",
              "    <tr style=\"text-align: right;\">\n",
              "      <th></th>\n",
              "      <th>country</th>\n",
              "      <th>life_expectancy</th>\n",
              "    </tr>\n",
              "  </thead>\n",
              "  <tbody>\n",
              "    <tr>\n",
              "      <th>147</th>\n",
              "      <td>Sierra Leone</td>\n",
              "      <td>38.123</td>\n",
              "    </tr>\n",
              "    <tr>\n",
              "      <th>186</th>\n",
              "      <td>Zambia</td>\n",
              "      <td>41.802</td>\n",
              "    </tr>\n",
              "    <tr>\n",
              "      <th>31</th>\n",
              "      <td>Central African Rep.</td>\n",
              "      <td>43.727</td>\n",
              "    </tr>\n",
              "    <tr>\n",
              "      <th>187</th>\n",
              "      <td>Zimbabwe</td>\n",
              "      <td>43.976</td>\n",
              "    </tr>\n",
              "    <tr>\n",
              "      <th>3</th>\n",
              "      <td>Angola</td>\n",
              "      <td>45.234</td>\n",
              "    </tr>\n",
              "  </tbody>\n",
              "</table>\n",
              "</div>\n",
              "    <div class=\"colab-df-buttons\">\n",
              "\n",
              "  <div class=\"colab-df-container\">\n",
              "    <button class=\"colab-df-convert\" onclick=\"convertToInteractive('df-b2e434bf-a131-4486-856d-dc3733433c4a')\"\n",
              "            title=\"Convert this dataframe to an interactive table.\"\n",
              "            style=\"display:none;\">\n",
              "\n",
              "  <svg xmlns=\"http://www.w3.org/2000/svg\" height=\"24px\" viewBox=\"0 -960 960 960\">\n",
              "    <path d=\"M120-120v-720h720v720H120Zm60-500h600v-160H180v160Zm220 220h160v-160H400v160Zm0 220h160v-160H400v160ZM180-400h160v-160H180v160Zm440 0h160v-160H620v160ZM180-180h160v-160H180v160Zm440 0h160v-160H620v160Z\"/>\n",
              "  </svg>\n",
              "    </button>\n",
              "\n",
              "  <style>\n",
              "    .colab-df-container {\n",
              "      display:flex;\n",
              "      gap: 12px;\n",
              "    }\n",
              "\n",
              "    .colab-df-convert {\n",
              "      background-color: #E8F0FE;\n",
              "      border: none;\n",
              "      border-radius: 50%;\n",
              "      cursor: pointer;\n",
              "      display: none;\n",
              "      fill: #1967D2;\n",
              "      height: 32px;\n",
              "      padding: 0 0 0 0;\n",
              "      width: 32px;\n",
              "    }\n",
              "\n",
              "    .colab-df-convert:hover {\n",
              "      background-color: #E2EBFA;\n",
              "      box-shadow: 0px 1px 2px rgba(60, 64, 67, 0.3), 0px 1px 3px 1px rgba(60, 64, 67, 0.15);\n",
              "      fill: #174EA6;\n",
              "    }\n",
              "\n",
              "    .colab-df-buttons div {\n",
              "      margin-bottom: 4px;\n",
              "    }\n",
              "\n",
              "    [theme=dark] .colab-df-convert {\n",
              "      background-color: #3B4455;\n",
              "      fill: #D2E3FC;\n",
              "    }\n",
              "\n",
              "    [theme=dark] .colab-df-convert:hover {\n",
              "      background-color: #434B5C;\n",
              "      box-shadow: 0px 1px 3px 1px rgba(0, 0, 0, 0.15);\n",
              "      filter: drop-shadow(0px 1px 2px rgba(0, 0, 0, 0.3));\n",
              "      fill: #FFFFFF;\n",
              "    }\n",
              "  </style>\n",
              "\n",
              "    <script>\n",
              "      const buttonEl =\n",
              "        document.querySelector('#df-b2e434bf-a131-4486-856d-dc3733433c4a button.colab-df-convert');\n",
              "      buttonEl.style.display =\n",
              "        google.colab.kernel.accessAllowed ? 'block' : 'none';\n",
              "\n",
              "      async function convertToInteractive(key) {\n",
              "        const element = document.querySelector('#df-b2e434bf-a131-4486-856d-dc3733433c4a');\n",
              "        const dataTable =\n",
              "          await google.colab.kernel.invokeFunction('convertToInteractive',\n",
              "                                                    [key], {});\n",
              "        if (!dataTable) return;\n",
              "\n",
              "        const docLinkHtml = 'Like what you see? Visit the ' +\n",
              "          '<a target=\"_blank\" href=https://colab.research.google.com/notebooks/data_table.ipynb>data table notebook</a>'\n",
              "          + ' to learn more about interactive tables.';\n",
              "        element.innerHTML = '';\n",
              "        dataTable['output_type'] = 'display_data';\n",
              "        await google.colab.output.renderOutput(dataTable, element);\n",
              "        const docLink = document.createElement('div');\n",
              "        docLink.innerHTML = docLinkHtml;\n",
              "        element.appendChild(docLink);\n",
              "      }\n",
              "    </script>\n",
              "  </div>\n",
              "\n",
              "\n",
              "    <div id=\"df-f965ff6e-5eff-4f10-8ca5-bc7583bb3ccf\">\n",
              "      <button class=\"colab-df-quickchart\" onclick=\"quickchart('df-f965ff6e-5eff-4f10-8ca5-bc7583bb3ccf')\"\n",
              "                title=\"Suggest charts\"\n",
              "                style=\"display:none;\">\n",
              "\n",
              "<svg xmlns=\"http://www.w3.org/2000/svg\" height=\"24px\"viewBox=\"0 0 24 24\"\n",
              "     width=\"24px\">\n",
              "    <g>\n",
              "        <path d=\"M19 3H5c-1.1 0-2 .9-2 2v14c0 1.1.9 2 2 2h14c1.1 0 2-.9 2-2V5c0-1.1-.9-2-2-2zM9 17H7v-7h2v7zm4 0h-2V7h2v10zm4 0h-2v-4h2v4z\"/>\n",
              "    </g>\n",
              "</svg>\n",
              "      </button>\n",
              "\n",
              "<style>\n",
              "  .colab-df-quickchart {\n",
              "      --bg-color: #E8F0FE;\n",
              "      --fill-color: #1967D2;\n",
              "      --hover-bg-color: #E2EBFA;\n",
              "      --hover-fill-color: #174EA6;\n",
              "      --disabled-fill-color: #AAA;\n",
              "      --disabled-bg-color: #DDD;\n",
              "  }\n",
              "\n",
              "  [theme=dark] .colab-df-quickchart {\n",
              "      --bg-color: #3B4455;\n",
              "      --fill-color: #D2E3FC;\n",
              "      --hover-bg-color: #434B5C;\n",
              "      --hover-fill-color: #FFFFFF;\n",
              "      --disabled-bg-color: #3B4455;\n",
              "      --disabled-fill-color: #666;\n",
              "  }\n",
              "\n",
              "  .colab-df-quickchart {\n",
              "    background-color: var(--bg-color);\n",
              "    border: none;\n",
              "    border-radius: 50%;\n",
              "    cursor: pointer;\n",
              "    display: none;\n",
              "    fill: var(--fill-color);\n",
              "    height: 32px;\n",
              "    padding: 0;\n",
              "    width: 32px;\n",
              "  }\n",
              "\n",
              "  .colab-df-quickchart:hover {\n",
              "    background-color: var(--hover-bg-color);\n",
              "    box-shadow: 0 1px 2px rgba(60, 64, 67, 0.3), 0 1px 3px 1px rgba(60, 64, 67, 0.15);\n",
              "    fill: var(--button-hover-fill-color);\n",
              "  }\n",
              "\n",
              "  .colab-df-quickchart-complete:disabled,\n",
              "  .colab-df-quickchart-complete:disabled:hover {\n",
              "    background-color: var(--disabled-bg-color);\n",
              "    fill: var(--disabled-fill-color);\n",
              "    box-shadow: none;\n",
              "  }\n",
              "\n",
              "  .colab-df-spinner {\n",
              "    border: 2px solid var(--fill-color);\n",
              "    border-color: transparent;\n",
              "    border-bottom-color: var(--fill-color);\n",
              "    animation:\n",
              "      spin 1s steps(1) infinite;\n",
              "  }\n",
              "\n",
              "  @keyframes spin {\n",
              "    0% {\n",
              "      border-color: transparent;\n",
              "      border-bottom-color: var(--fill-color);\n",
              "      border-left-color: var(--fill-color);\n",
              "    }\n",
              "    20% {\n",
              "      border-color: transparent;\n",
              "      border-left-color: var(--fill-color);\n",
              "      border-top-color: var(--fill-color);\n",
              "    }\n",
              "    30% {\n",
              "      border-color: transparent;\n",
              "      border-left-color: var(--fill-color);\n",
              "      border-top-color: var(--fill-color);\n",
              "      border-right-color: var(--fill-color);\n",
              "    }\n",
              "    40% {\n",
              "      border-color: transparent;\n",
              "      border-right-color: var(--fill-color);\n",
              "      border-top-color: var(--fill-color);\n",
              "    }\n",
              "    60% {\n",
              "      border-color: transparent;\n",
              "      border-right-color: var(--fill-color);\n",
              "    }\n",
              "    80% {\n",
              "      border-color: transparent;\n",
              "      border-right-color: var(--fill-color);\n",
              "      border-bottom-color: var(--fill-color);\n",
              "    }\n",
              "    90% {\n",
              "      border-color: transparent;\n",
              "      border-bottom-color: var(--fill-color);\n",
              "    }\n",
              "  }\n",
              "</style>\n",
              "\n",
              "      <script>\n",
              "        async function quickchart(key) {\n",
              "          const quickchartButtonEl =\n",
              "            document.querySelector('#' + key + ' button');\n",
              "          quickchartButtonEl.disabled = true;  // To prevent multiple clicks.\n",
              "          quickchartButtonEl.classList.add('colab-df-spinner');\n",
              "          try {\n",
              "            const charts = await google.colab.kernel.invokeFunction(\n",
              "                'suggestCharts', [key], {});\n",
              "          } catch (error) {\n",
              "            console.error('Error during call to suggestCharts:', error);\n",
              "          }\n",
              "          quickchartButtonEl.classList.remove('colab-df-spinner');\n",
              "          quickchartButtonEl.classList.add('colab-df-quickchart-complete');\n",
              "        }\n",
              "        (() => {\n",
              "          let quickchartButtonEl =\n",
              "            document.querySelector('#df-f965ff6e-5eff-4f10-8ca5-bc7583bb3ccf button');\n",
              "          quickchartButtonEl.style.display =\n",
              "            google.colab.kernel.accessAllowed ? 'block' : 'none';\n",
              "        })();\n",
              "      </script>\n",
              "    </div>\n",
              "\n",
              "    </div>\n",
              "  </div>\n"
            ],
            "application/vnd.google.colaboratory.intrinsic+json": {
              "type": "dataframe",
              "summary": "{\n  \"name\": \"lowest_life_expectancy[[\\\"country\\\", \\\"life_expectancy\\\"]]\",\n  \"rows\": 5,\n  \"fields\": [\n    {\n      \"column\": \"country\",\n      \"properties\": {\n        \"dtype\": \"string\",\n        \"num_unique_values\": 5,\n        \"samples\": [\n          \"Zambia\",\n          \"Angola\",\n          \"Central African Rep.\"\n        ],\n        \"semantic_type\": \"\",\n        \"description\": \"\"\n      }\n    },\n    {\n      \"column\": \"life_expectancy\",\n      \"properties\": {\n        \"dtype\": \"number\",\n        \"std\": 2.77389550992823,\n        \"min\": 38.123000000000005,\n        \"max\": 45.234,\n        \"num_unique_values\": 5,\n        \"samples\": [\n          41.802,\n          45.234,\n          43.727\n        ],\n        \"semantic_type\": \"\",\n        \"description\": \"\"\n      }\n    }\n  ]\n}"
            }
          },
          "metadata": {},
          "execution_count": 63
        }
      ]
    }
  ]
}