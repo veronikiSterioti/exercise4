{
  "nbformat": 4,
  "nbformat_minor": 0,
  "metadata": {
    "colab": {
      "provenance": [],
      "include_colab_link": true
    },
    "kernelspec": {
      "name": "python3",
      "display_name": "Python 3"
    },
    "language_info": {
      "name": "python"
    }
  },
  "cells": [
    {
      "cell_type": "markdown",
      "metadata": {
        "id": "view-in-github",
        "colab_type": "text"
      },
      "source": [
        "<a href=\"https://colab.research.google.com/github/veronikiSterioti/exercise4/blob/main/_exercise1.ipynb\" target=\"_parent\"><img src=\"https://colab.research.google.com/assets/colab-badge.svg\" alt=\"Open In Colab\"/></a>"
      ]
    },
    {
      "cell_type": "markdown",
      "source": [
        "## Άσκηση 1\n",
        "\n",
        "Δημιουργήστε τις παρακάτω μεταβλητές:\n",
        "- όνομα\n",
        "- επώνυμο\n",
        "- αριθμός μητρώου\n",
        "- μάθημα 1\n",
        "- μάθημα 2\n",
        "- μάθημα 3\n",
        "- βαθμός μαθήματος 1\n",
        "- βαθμός μαθήματος 2\n",
        "- βαθμός μαθήματος 3\n",
        "\n",
        "Σε κάθε μεταβλητή δώστε το κατάλληλο όνομα (με αγγλικούς χαρακτήρες) και την αντίστοιχη τιμή, με το σωστό τύπο δεδομένων (string / integer).\n",
        "\n",
        "Τυπώστε στην οθόνη (print) τις τιμές όλων των μεταβλητών που ορίσατε.\n",
        "\n",
        "**Hints**:\n",
        "- όπου η τιμή είναι αριθμός, σκεφτείτε αν θα χρησιμοποιήσετε stirng ή integer, ανάλογα με το αν χρειάζεται να κάνετε αργότερα αριθμητικές πράξεις\n",
        "- χρησιμοποιήστε ονόματα μεταβλητών που να έχουν νόημα\n",
        "- εάν γράψετε όλες τις εντολές σε ένα κελί, όταν φτάσετε στο τέλος στο σημείο να γράψετε την εντολή `print`, το colab θα σας προτείνει να γράψετε μέσα στις παρενθέσεις όλες τις μεταβλητές. Πατήστε `tab` για να αποδεχτείτε την πρόταση που σας κάνει."
      ],
      "metadata": {
        "id": "JZISjhuEQFOB"
      }
    },
    {
      "cell_type": "code",
      "execution_count": null,
      "metadata": {
        "id": "cRnQhimEPhY0",
        "colab": {
          "base_uri": "https://localhost:8080/"
        },
        "collapsed": true,
        "outputId": "b917950e-0b80-4d17-8800-ab5370bb5d30"
      },
      "outputs": [
        {
          "output_type": "stream",
          "name": "stdout",
          "text": [
            "Veroniki Sterioti 2100132 Computational data journalism politiki epikoinomia organosiaki epikoinonia 10 7 9\n"
          ]
        }
      ],
      "source": [
        "Name='Veroniki' #string\n",
        "Surname='Sterioti' #string\n",
        "AM=2100132 #integer\n",
        "mathima1= 'Computational data journalism' #string\n",
        "mathima2= 'politiki epikoinomia' #string\n",
        "mathima3= 'organosiaki epikoinonia' #string\n",
        "grade1 = 10 #integer\n",
        "grade2 = 7 #integer\n",
        "grade3 = 9 #integer\n",
        "print(Name, Surname, AM, mathima1, mathima2, mathima3, grade1, grade2, grade3)\n",
        "\n"
      ]
    },
    {
      "cell_type": "markdown",
      "source": [
        "## Άσκηση 2\n",
        "\n",
        "Υπολογίστε το μέσο όρο των βαθμών των 3 μαθημάτων, αποθηκεύστε τον σε μια μεταβλητή και τυπώστε την τιμή της μεταβλητής του μέσου όρου στην οθόνη.\n",
        "\n",
        "**Hints**:\n",
        "- ο μέσος όρος υπολογίζεται με τη φόρμουλα: <άθροισμα επιμέρους τιμών> δια <πλήθος τιμών>\n",
        "- για τον υπολογισμό του αθροίσματος των επιμέρους τιμών χρησιμοποιήστε τα ονόματα των μεταβλητών των επιμέρους τιμών και όχι τις τιμές τους"
      ],
      "metadata": {
        "id": "uPD0W-qcWcfV"
      }
    },
    {
      "cell_type": "code",
      "source": [
        "average_grade = (grade1 + grade2 + grade3)/ 3"
      ],
      "metadata": {
        "id": "Z0OnhXMURzMR"
      },
      "execution_count": null,
      "outputs": []
    },
    {
      "cell_type": "markdown",
      "source": [
        "Τυπώστε στην οθόνη τον τύπο δεδομένων της μεταβλητής του μέσου όρου."
      ],
      "metadata": {
        "id": "3lDi2k3iYoWe"
      }
    },
    {
      "cell_type": "code",
      "source": [
        "print(type(average_grade))"
      ],
      "metadata": {
        "id": "ET5xvgxTZAJb",
        "outputId": "dbe33947-a974-49f7-9543-8d4bc394a0a8",
        "colab": {
          "base_uri": "https://localhost:8080/"
        }
      },
      "execution_count": null,
      "outputs": [
        {
          "output_type": "stream",
          "name": "stdout",
          "text": [
            "<class 'float'>\n"
          ]
        }
      ]
    },
    {
      "cell_type": "markdown",
      "source": [
        "Μετατρέψτε το μέσο όρο σε ακέραιο (integer) και τυπώστε το αποτέλεσμα στην οθόνη."
      ],
      "metadata": {
        "id": "y-QK_9DmZHAF"
      }
    },
    {
      "cell_type": "code",
      "source": [
        "average_grade = int(average_grade)\n",
        "print(average_grade) #8,67"
      ],
      "metadata": {
        "id": "VV13wQMoR69T",
        "outputId": "893e6298-df22-4633-fcec-4fd7245d1397",
        "colab": {
          "base_uri": "https://localhost:8080/"
        }
      },
      "execution_count": null,
      "outputs": [
        {
          "output_type": "stream",
          "name": "stdout",
          "text": [
            "8\n"
          ]
        }
      ]
    },
    {
      "cell_type": "markdown",
      "source": [
        "## Άσκηση 3\n",
        "\n",
        "Δημιουργήστε ένα νέο κελί κώδικα.\n",
        "\n",
        "Μέσα στο κελί γράφει: Start coding or generate with AI. Πατήστε τη λέξη generate.\n",
        "\n",
        "Στο κελί Generate που εμφανίζεται γράψτε ένα prompt με το οποίο να του ζητάτε να αλλάξει τη μεταβλητή grade1 σε 5 και να ξαναϋπολογίσει και να τυπώσει τον μέσο όρο."
      ],
      "metadata": {
        "id": "1dhIvNXCecFf"
      }
    },
    {
      "cell_type": "code",
      "source": [
        "# prompt: # prompt : grade1 = 5\n",
        "\n",
        "grade1 = 5\n",
        "average_grade = (grade1 + grade2 + grade3)/ 3\n",
        "average_grade\n"
      ],
      "metadata": {
        "id": "Qqvc9WWYVLYH",
        "outputId": "ce884699-fd3b-432d-c3a7-4ea6173f83c2",
        "colab": {
          "base_uri": "https://localhost:8080/"
        }
      },
      "execution_count": null,
      "outputs": [
        {
          "output_type": "execute_result",
          "data": {
            "text/plain": [
              "7.0"
            ]
          },
          "metadata": {},
          "execution_count": 10
        }
      ]
    },
    {
      "cell_type": "markdown",
      "source": [
        "## Άσκηση 4\n",
        "\n",
        "Φτιάξτε μια λίστα με όνομα actorsL και βάλτε μέσα στη λίστα τα ονοματεπώνυμα 3 αγαπημένων σας ηθοποιών.\n",
        "\n",
        "Χρησιμοποιώντας το index, τυπώστε στην οθόνη:\n",
        "- το 2ο ονοματεπώνυμο της λίστας\n",
        "- το τελευταίο ονοματεπώνυμο της λίστας\n",
        "- τα 2 πρώτα ονοματεπώνυμα"
      ],
      "metadata": {
        "id": "_BaLrQrqV3jw"
      }
    },
    {
      "cell_type": "code",
      "source": [
        "actorsL = [\"Leonardo DiCaprio\", \"Meryl Streep\", \"Robert De Niro\"]\n",
        "print(actorsL[1])\n",
        "print(actorsL[2])\n",
        "print(actorsL[0],actorsL[1])"
      ],
      "metadata": {
        "id": "J8U-TfzMXVkx",
        "outputId": "f267c62f-6ce9-4f30-dc46-65e786822993",
        "colab": {
          "base_uri": "https://localhost:8080/"
        }
      },
      "execution_count": null,
      "outputs": [
        {
          "output_type": "stream",
          "name": "stdout",
          "text": [
            "Meryl Streep\n",
            "Robert De Niro\n",
            "Leonardo DiCaprio Meryl Streep\n"
          ]
        }
      ]
    }
  ]
}